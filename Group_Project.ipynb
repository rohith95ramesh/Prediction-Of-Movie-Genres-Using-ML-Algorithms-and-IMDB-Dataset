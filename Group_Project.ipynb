{
 "cells": [
  {
   "cell_type": "markdown",
   "metadata": {},
   "source": [
    "        Data Science: A Programming Approach\n",
    "        Mahyar S Vaghefi\n",
    "        University of Texas Arlington\n",
    "        \n",
    "        This document can only be used for class studies. \n",
    "        You are not allowed to share it in any public platform."
   ]
  },
  {
   "cell_type": "markdown",
   "metadata": {},
   "source": [
    "<h1 align='center' style=\"color: blue;\">Group Project - Fall 2020</h1>"
   ]
  },
  {
   "cell_type": "markdown",
   "metadata": {},
   "source": [
    "### Submitted By: Group 1(Blue)\n",
    "            Kajal Jain : 1001815317 <br>\n",
    "            Tanvi J. Bapna : 1001719315 <br>\n",
    "            Rohith Ramesh : 1001518031 <br>"
   ]
  },
  {
   "cell_type": "markdown",
   "metadata": {},
   "source": [
    "You need to work as a team for this project. Your job is to develop a predictive model that can predict whether or not a movie is a <i>Comedy</i>. In order to do so you need to use the textual features of the movie stories and creat your predictive models. There are totally three different files in this project.\n",
    "\n",
    "<ol>\n",
    "    <li><b>movie_story_student_file.csv</b>: This file contains the movie stories that should be used by students for model development.</li>\n",
    "    <li><b>movie_story_evaluation_file.csv</b>: This file should NOT be used for model development purposes. Students should only use this file after developing their predictive models and selecting their best final model. They then need to use their best predictive model and predict whether or not the movies in <b>movie story evaluation file.csv</b> are Comedy.</li>\n",
    "    <li><b>movies.csv</b>: This file contain the movie genres.</li>\n",
    "</ol>"
   ]
  },
  {
   "cell_type": "markdown",
   "metadata": {},
   "source": [
    "<b>Additional Note:</b> This note provides additional guideline for the project."
   ]
  },
  {
   "cell_type": "markdown",
   "metadata": {},
   "source": [
    "<b>Step 1:</b> Explore all files to become familiar with the dataset <br />\n",
    "<b>Step 2:</b> There are 20,000 movies in `movie_story_student_file.csv`file. Use the `movies.csv` file to determine whether a movie is Comedy or not. The final output of this step should be development of a dataframe file that contains three columns: 1) movieId, 2) story, 3) ComedyGenre. The value for the thirrd column should be in a binary format. If the movie is comedy the value should be 1, otherwise 0. Name the new file as `main_dataset`. <br />\n",
    "<b>Step 3:</b> If you want to just have one train and one test set, then split the `main_dataset` to train and test sets. Otherwise you can use cross validation methods.  <br />\n",
    "<b>Step 4:</b> Use your supervised learning and text analysis knowledge to develope different predictive models (i.e. logestic regression, random forest, ...). Test the performance of your models in terms of accuracy, precision, recall, and F1 scores. <br />\n",
    "<b>Step 5:</b> Choose one of your best models (only one). Then use the full data available in `main dataset` to train that model.<br />\n",
    "<b>Step 6:</b> Prepare data in `movie_story_evaluation_file.csv` for prediction. You need to perform the exact same steps that you have done in <b>Step 2</b> to prepare this new dataset. Name the new dataset as `evaluation_dataset`. <br />\n",
    "<b>Step 7:</b> Use your selected model in Step 5 to predict whether or not movies in `evaluation_dataset` are Comedy movies. <br />\n",
    "<b>Step 8:</b> Report the final accuracy, precision, recall and F1 score. <br />"
   ]
  },
  {
   "cell_type": "markdown",
   "metadata": {},
   "source": [
    "Keep in mind that the above steps are only provide guidelines. There are more detail works in this project that should be captured by students. "
   ]
  },
  {
   "cell_type": "markdown",
   "metadata": {},
   "source": [
    "<b>Extra Credit</b> The group with the best prediction model is going to get extra points."
   ]
  },
  {
   "cell_type": "code",
   "execution_count": 1,
   "metadata": {},
   "outputs": [],
   "source": [
    "#importing all required libraries\n",
    "import pandas as pd\n",
    "import numpy as np"
   ]
  },
  {
   "cell_type": "markdown",
   "metadata": {},
   "source": [
    "### <b>Step 1:</b> Explore all files to become familiar with the dataset \n",
    "#### a. Getting familier with the dataset movies.csv "
   ]
  },
  {
   "cell_type": "code",
   "execution_count": 2,
   "metadata": {},
   "outputs": [
    {
     "data": {
      "text/html": [
       "<div>\n",
       "<style scoped>\n",
       "    .dataframe tbody tr th:only-of-type {\n",
       "        vertical-align: middle;\n",
       "    }\n",
       "\n",
       "    .dataframe tbody tr th {\n",
       "        vertical-align: top;\n",
       "    }\n",
       "\n",
       "    .dataframe thead th {\n",
       "        text-align: right;\n",
       "    }\n",
       "</style>\n",
       "<table border=\"1\" class=\"dataframe\">\n",
       "  <thead>\n",
       "    <tr style=\"text-align: right;\">\n",
       "      <th></th>\n",
       "      <th>movieId</th>\n",
       "      <th>title</th>\n",
       "      <th>genres</th>\n",
       "    </tr>\n",
       "  </thead>\n",
       "  <tbody>\n",
       "    <tr>\n",
       "      <th>0</th>\n",
       "      <td>27509</td>\n",
       "      <td>Carolina (2005)</td>\n",
       "      <td>Comedy|Romance</td>\n",
       "    </tr>\n",
       "    <tr>\n",
       "      <th>1</th>\n",
       "      <td>27618</td>\n",
       "      <td>Sound of Thunder, A (2005)</td>\n",
       "      <td>Action|Adventure|Drama|Sci-Fi|Thriller</td>\n",
       "    </tr>\n",
       "    <tr>\n",
       "      <th>2</th>\n",
       "      <td>27788</td>\n",
       "      <td>Jacket, The (2005)</td>\n",
       "      <td>Drama|Mystery|Sci-Fi|Thriller</td>\n",
       "    </tr>\n",
       "    <tr>\n",
       "      <th>3</th>\n",
       "      <td>27821</td>\n",
       "      <td>Interpreter, The (2005)</td>\n",
       "      <td>Drama|Thriller</td>\n",
       "    </tr>\n",
       "    <tr>\n",
       "      <th>4</th>\n",
       "      <td>27839</td>\n",
       "      <td>Ring Two, The (2005)</td>\n",
       "      <td>Drama|Horror|Mystery|Thriller</td>\n",
       "    </tr>\n",
       "  </tbody>\n",
       "</table>\n",
       "</div>"
      ],
      "text/plain": [
       "   movieId                       title                                  genres\n",
       "0    27509             Carolina (2005)                          Comedy|Romance\n",
       "1    27618  Sound of Thunder, A (2005)  Action|Adventure|Drama|Sci-Fi|Thriller\n",
       "2    27788          Jacket, The (2005)           Drama|Mystery|Sci-Fi|Thriller\n",
       "3    27821     Interpreter, The (2005)                          Drama|Thriller\n",
       "4    27839        Ring Two, The (2005)           Drama|Horror|Mystery|Thriller"
      ]
     },
     "execution_count": 2,
     "metadata": {},
     "output_type": "execute_result"
    }
   ],
   "source": [
    "# exploring the dataset movie.csv\n",
    "movie_data = pd.read_csv(\"movies.csv\")\n",
    "movie_data.head()"
   ]
  },
  {
   "cell_type": "code",
   "execution_count": 3,
   "metadata": {},
   "outputs": [
    {
     "name": "stdout",
     "output_type": "stream",
     "text": [
      "<class 'pandas.core.frame.DataFrame'>\n",
      "RangeIndex: 23498 entries, 0 to 23497\n",
      "Data columns (total 3 columns):\n",
      " #   Column   Non-Null Count  Dtype \n",
      "---  ------   --------------  ----- \n",
      " 0   movieId  23498 non-null  int64 \n",
      " 1   title    23498 non-null  object\n",
      " 2   genres   23498 non-null  object\n",
      "dtypes: int64(1), object(2)\n",
      "memory usage: 550.9+ KB\n"
     ]
    }
   ],
   "source": [
    "movie_data.info()"
   ]
  },
  {
   "cell_type": "markdown",
   "metadata": {},
   "source": [
    "#### b.Getting familier with the dataset movies_story_student.csv:"
   ]
  },
  {
   "cell_type": "code",
   "execution_count": 4,
   "metadata": {},
   "outputs": [
    {
     "data": {
      "text/html": [
       "<div>\n",
       "<style scoped>\n",
       "    .dataframe tbody tr th:only-of-type {\n",
       "        vertical-align: middle;\n",
       "    }\n",
       "\n",
       "    .dataframe tbody tr th {\n",
       "        vertical-align: top;\n",
       "    }\n",
       "\n",
       "    .dataframe thead th {\n",
       "        text-align: right;\n",
       "    }\n",
       "</style>\n",
       "<table border=\"1\" class=\"dataframe\">\n",
       "  <thead>\n",
       "    <tr style=\"text-align: right;\">\n",
       "      <th></th>\n",
       "      <th>movie_id</th>\n",
       "      <th>story</th>\n",
       "    </tr>\n",
       "  </thead>\n",
       "  <tbody>\n",
       "    <tr>\n",
       "      <th>0</th>\n",
       "      <td>131072</td>\n",
       "      <td>A girl who always tends to fall in love with t...</td>\n",
       "    </tr>\n",
       "    <tr>\n",
       "      <th>1</th>\n",
       "      <td>196609</td>\n",
       "      <td>Bigfoot has come to the town of Ellwood City, ...</td>\n",
       "    </tr>\n",
       "    <tr>\n",
       "      <th>2</th>\n",
       "      <td>131074</td>\n",
       "      <td>At an altitude of 18,000 feet, Alaska\\'s Mount...</td>\n",
       "    </tr>\n",
       "    <tr>\n",
       "      <th>3</th>\n",
       "      <td>196611</td>\n",
       "      <td>In her first special since 2003, Ellen revisit...</td>\n",
       "    </tr>\n",
       "    <tr>\n",
       "      <th>4</th>\n",
       "      <td>196613</td>\n",
       "      <td>Mike and Sulley are back at Monsters Universit...</td>\n",
       "    </tr>\n",
       "  </tbody>\n",
       "</table>\n",
       "</div>"
      ],
      "text/plain": [
       "   movie_id                                              story\n",
       "0    131072  A girl who always tends to fall in love with t...\n",
       "1    196609  Bigfoot has come to the town of Ellwood City, ...\n",
       "2    131074  At an altitude of 18,000 feet, Alaska\\'s Mount...\n",
       "3    196611  In her first special since 2003, Ellen revisit...\n",
       "4    196613  Mike and Sulley are back at Monsters Universit..."
      ]
     },
     "execution_count": 4,
     "metadata": {},
     "output_type": "execute_result"
    }
   ],
   "source": [
    "# exploring movie story student file.\n",
    "movie_student_data=pd.read_csv(\"movie_story_student_file.csv\")\n",
    "movie_student_data.head()"
   ]
  },
  {
   "cell_type": "code",
   "execution_count": 5,
   "metadata": {},
   "outputs": [],
   "source": [
    "# renaming column movie_id\n",
    "movie_student_data.rename(columns = {'movie_id':'movieId'}, inplace = True)   "
   ]
  },
  {
   "cell_type": "code",
   "execution_count": 6,
   "metadata": {},
   "outputs": [
    {
     "name": "stdout",
     "output_type": "stream",
     "text": [
      "<class 'pandas.core.frame.DataFrame'>\n",
      "RangeIndex: 20000 entries, 0 to 19999\n",
      "Data columns (total 2 columns):\n",
      " #   Column   Non-Null Count  Dtype \n",
      "---  ------   --------------  ----- \n",
      " 0   movieId  20000 non-null  int64 \n",
      " 1   story    20000 non-null  object\n",
      "dtypes: int64(1), object(1)\n",
      "memory usage: 312.6+ KB\n"
     ]
    }
   ],
   "source": [
    "# getting familier with dataset\n",
    "movie_student_data.info()  "
   ]
  },
  {
   "cell_type": "markdown",
   "metadata": {},
   "source": [
    "### Step : Data preprocessing and cleaning"
   ]
  },
  {
   "cell_type": "code",
   "execution_count": 7,
   "metadata": {},
   "outputs": [],
   "source": [
    "import re                                                \n",
    "# function for text cleaning : cleaning the test and removing unwanted character from story \n",
    "def clean_text(text):\n",
    "    # remove backslash-apostrophe\n",
    "    text = re.sub(\"\\'\", \"\", text)\n",
    "    # remove everything alphabets\n",
    "    text = re.sub(\"[^a-zA-Z]\",\" \",text)\n",
    "    # remove whitespaces\n",
    "    text = ' '.join(text.split())\n",
    "    # convert text to lowercase\n",
    "    text = text.lower()\n",
    "    \n",
    "    return text"
   ]
  },
  {
   "cell_type": "code",
   "execution_count": 8,
   "metadata": {},
   "outputs": [
    {
     "data": {
      "text/html": [
       "<div>\n",
       "<style scoped>\n",
       "    .dataframe tbody tr th:only-of-type {\n",
       "        vertical-align: middle;\n",
       "    }\n",
       "\n",
       "    .dataframe tbody tr th {\n",
       "        vertical-align: top;\n",
       "    }\n",
       "\n",
       "    .dataframe thead th {\n",
       "        text-align: right;\n",
       "    }\n",
       "</style>\n",
       "<table border=\"1\" class=\"dataframe\">\n",
       "  <thead>\n",
       "    <tr style=\"text-align: right;\">\n",
       "      <th></th>\n",
       "      <th>movieId</th>\n",
       "      <th>story</th>\n",
       "      <th>Story</th>\n",
       "    </tr>\n",
       "  </thead>\n",
       "  <tbody>\n",
       "    <tr>\n",
       "      <th>0</th>\n",
       "      <td>131072</td>\n",
       "      <td>A girl who always tends to fall in love with t...</td>\n",
       "      <td>a girl who always tends to fall in love with t...</td>\n",
       "    </tr>\n",
       "    <tr>\n",
       "      <th>1</th>\n",
       "      <td>196609</td>\n",
       "      <td>Bigfoot has come to the town of Ellwood City, ...</td>\n",
       "      <td>bigfoot has come to the town of ellwood city p...</td>\n",
       "    </tr>\n",
       "    <tr>\n",
       "      <th>2</th>\n",
       "      <td>131074</td>\n",
       "      <td>At an altitude of 18,000 feet, Alaska\\'s Mount...</td>\n",
       "      <td>at an altitude of feet alaska s mount st elias...</td>\n",
       "    </tr>\n",
       "    <tr>\n",
       "      <th>3</th>\n",
       "      <td>196611</td>\n",
       "      <td>In her first special since 2003, Ellen revisit...</td>\n",
       "      <td>in her first special since ellen revisits her ...</td>\n",
       "    </tr>\n",
       "    <tr>\n",
       "      <th>4</th>\n",
       "      <td>196613</td>\n",
       "      <td>Mike and Sulley are back at Monsters Universit...</td>\n",
       "      <td>mike and sulley are back at monsters universit...</td>\n",
       "    </tr>\n",
       "  </tbody>\n",
       "</table>\n",
       "</div>"
      ],
      "text/plain": [
       "   movieId                                              story  \\\n",
       "0   131072  A girl who always tends to fall in love with t...   \n",
       "1   196609  Bigfoot has come to the town of Ellwood City, ...   \n",
       "2   131074  At an altitude of 18,000 feet, Alaska\\'s Mount...   \n",
       "3   196611  In her first special since 2003, Ellen revisit...   \n",
       "4   196613  Mike and Sulley are back at Monsters Universit...   \n",
       "\n",
       "                                               Story  \n",
       "0  a girl who always tends to fall in love with t...  \n",
       "1  bigfoot has come to the town of ellwood city p...  \n",
       "2  at an altitude of feet alaska s mount st elias...  \n",
       "3  in her first special since ellen revisits her ...  \n",
       "4  mike and sulley are back at monsters universit...  "
      ]
     },
     "execution_count": 8,
     "metadata": {},
     "output_type": "execute_result"
    }
   ],
   "source": [
    "# creating new column Story(cleaned text) in movie_student_data\n",
    "movie_student_data['Story'] = movie_student_data['story'].apply(lambda x: clean_text(x))\n",
    "movie_student_data.head()"
   ]
  },
  {
   "cell_type": "code",
   "execution_count": 9,
   "metadata": {},
   "outputs": [],
   "source": [
    "# change datatype of 'movie_id' movieId\t\n",
    "movie_data['movieId'] = movie_data['movieId'].astype(str)\n",
    "movie_student_data['movieId'] = movie_student_data['movieId'].astype(str)\n",
    "\n",
    "# merge meta with movies\n",
    "movie_student_data = pd.merge(movie_student_data, movie_data[['movieId', 'title', 'genres']],on = ['movieId'], how='right')"
   ]
  },
  {
   "cell_type": "code",
   "execution_count": 10,
   "metadata": {},
   "outputs": [
    {
     "name": "stdout",
     "output_type": "stream",
     "text": [
      "<class 'pandas.core.frame.DataFrame'>\n",
      "Int64Index: 23498 entries, 0 to 23497\n",
      "Data columns (total 5 columns):\n",
      " #   Column   Non-Null Count  Dtype \n",
      "---  ------   --------------  ----- \n",
      " 0   movieId  23498 non-null  object\n",
      " 1   story    20000 non-null  object\n",
      " 2   Story    20000 non-null  object\n",
      " 3   title    23498 non-null  object\n",
      " 4   genres   23498 non-null  object\n",
      "dtypes: object(5)\n",
      "memory usage: 1.1+ MB\n"
     ]
    }
   ],
   "source": [
    "movie_student_data.info()"
   ]
  },
  {
   "cell_type": "code",
   "execution_count": 11,
   "metadata": {},
   "outputs": [
    {
     "data": {
      "text/html": [
       "<div>\n",
       "<style scoped>\n",
       "    .dataframe tbody tr th:only-of-type {\n",
       "        vertical-align: middle;\n",
       "    }\n",
       "\n",
       "    .dataframe tbody tr th {\n",
       "        vertical-align: top;\n",
       "    }\n",
       "\n",
       "    .dataframe thead th {\n",
       "        text-align: right;\n",
       "    }\n",
       "</style>\n",
       "<table border=\"1\" class=\"dataframe\">\n",
       "  <thead>\n",
       "    <tr style=\"text-align: right;\">\n",
       "      <th></th>\n",
       "      <th>movieId</th>\n",
       "      <th>story</th>\n",
       "      <th>Story</th>\n",
       "      <th>title</th>\n",
       "      <th>genres</th>\n",
       "      <th>Com_gen</th>\n",
       "    </tr>\n",
       "  </thead>\n",
       "  <tbody>\n",
       "    <tr>\n",
       "      <th>0</th>\n",
       "      <td>131072</td>\n",
       "      <td>A girl who always tends to fall in love with t...</td>\n",
       "      <td>a girl who always tends to fall in love with t...</td>\n",
       "      <td>Jesus liebt mich (2012)</td>\n",
       "      <td>Comedy</td>\n",
       "      <td>True</td>\n",
       "    </tr>\n",
       "    <tr>\n",
       "      <th>1</th>\n",
       "      <td>196609</td>\n",
       "      <td>Bigfoot has come to the town of Ellwood City, ...</td>\n",
       "      <td>bigfoot has come to the town of ellwood city p...</td>\n",
       "      <td>Bigfoot The Movie (2015)</td>\n",
       "      <td>Comedy|Horror</td>\n",
       "      <td>True</td>\n",
       "    </tr>\n",
       "    <tr>\n",
       "      <th>2</th>\n",
       "      <td>131074</td>\n",
       "      <td>At an altitude of 18,000 feet, Alaska\\'s Mount...</td>\n",
       "      <td>at an altitude of feet alaska s mount st elias...</td>\n",
       "      <td>Mount St. Elias (2009)</td>\n",
       "      <td>Documentary</td>\n",
       "      <td>False</td>\n",
       "    </tr>\n",
       "    <tr>\n",
       "      <th>3</th>\n",
       "      <td>196611</td>\n",
       "      <td>In her first special since 2003, Ellen revisit...</td>\n",
       "      <td>in her first special since ellen revisits her ...</td>\n",
       "      <td>Ellen DeGeneres: Relatable (2018)</td>\n",
       "      <td>Comedy</td>\n",
       "      <td>True</td>\n",
       "    </tr>\n",
       "    <tr>\n",
       "      <th>4</th>\n",
       "      <td>196613</td>\n",
       "      <td>Mike and Sulley are back at Monsters Universit...</td>\n",
       "      <td>mike and sulley are back at monsters universit...</td>\n",
       "      <td>Party Central (2014)</td>\n",
       "      <td>Animation|Children|Comedy|Fantasy</td>\n",
       "      <td>True</td>\n",
       "    </tr>\n",
       "  </tbody>\n",
       "</table>\n",
       "</div>"
      ],
      "text/plain": [
       "  movieId                                              story  \\\n",
       "0  131072  A girl who always tends to fall in love with t...   \n",
       "1  196609  Bigfoot has come to the town of Ellwood City, ...   \n",
       "2  131074  At an altitude of 18,000 feet, Alaska\\'s Mount...   \n",
       "3  196611  In her first special since 2003, Ellen revisit...   \n",
       "4  196613  Mike and Sulley are back at Monsters Universit...   \n",
       "\n",
       "                                               Story  \\\n",
       "0  a girl who always tends to fall in love with t...   \n",
       "1  bigfoot has come to the town of ellwood city p...   \n",
       "2  at an altitude of feet alaska s mount st elias...   \n",
       "3  in her first special since ellen revisits her ...   \n",
       "4  mike and sulley are back at monsters universit...   \n",
       "\n",
       "                               title                             genres  \\\n",
       "0            Jesus liebt mich (2012)                             Comedy   \n",
       "1           Bigfoot The Movie (2015)                      Comedy|Horror   \n",
       "2             Mount St. Elias (2009)                        Documentary   \n",
       "3  Ellen DeGeneres: Relatable (2018)                             Comedy   \n",
       "4               Party Central (2014)  Animation|Children|Comedy|Fantasy   \n",
       "\n",
       "   Com_gen  \n",
       "0     True  \n",
       "1     True  \n",
       "2    False  \n",
       "3     True  \n",
       "4     True  "
      ]
     },
     "execution_count": 11,
     "metadata": {},
     "output_type": "execute_result"
    }
   ],
   "source": [
    "#creating column for comedy genre\n",
    "\n",
    "flag=movie_student_data['genres'].str.contains(\"Comedy\")\n",
    "movie_student_data['Com_gen']=flag\n",
    "movie_student_data.head()"
   ]
  },
  {
   "cell_type": "code",
   "execution_count": 12,
   "metadata": {},
   "outputs": [
    {
     "data": {
      "text/html": [
       "<div>\n",
       "<style scoped>\n",
       "    .dataframe tbody tr th:only-of-type {\n",
       "        vertical-align: middle;\n",
       "    }\n",
       "\n",
       "    .dataframe tbody tr th {\n",
       "        vertical-align: top;\n",
       "    }\n",
       "\n",
       "    .dataframe thead th {\n",
       "        text-align: right;\n",
       "    }\n",
       "</style>\n",
       "<table border=\"1\" class=\"dataframe\">\n",
       "  <thead>\n",
       "    <tr style=\"text-align: right;\">\n",
       "      <th></th>\n",
       "      <th>movieId</th>\n",
       "      <th>story</th>\n",
       "      <th>Story</th>\n",
       "      <th>title</th>\n",
       "      <th>genres</th>\n",
       "      <th>Com_gen</th>\n",
       "    </tr>\n",
       "  </thead>\n",
       "  <tbody>\n",
       "    <tr>\n",
       "      <th>0</th>\n",
       "      <td>131072</td>\n",
       "      <td>A girl who always tends to fall in love with t...</td>\n",
       "      <td>a girl who always tends to fall in love with t...</td>\n",
       "      <td>Jesus liebt mich (2012)</td>\n",
       "      <td>Comedy</td>\n",
       "      <td>1</td>\n",
       "    </tr>\n",
       "    <tr>\n",
       "      <th>1</th>\n",
       "      <td>196609</td>\n",
       "      <td>Bigfoot has come to the town of Ellwood City, ...</td>\n",
       "      <td>bigfoot has come to the town of ellwood city p...</td>\n",
       "      <td>Bigfoot The Movie (2015)</td>\n",
       "      <td>Comedy|Horror</td>\n",
       "      <td>1</td>\n",
       "    </tr>\n",
       "    <tr>\n",
       "      <th>2</th>\n",
       "      <td>131074</td>\n",
       "      <td>At an altitude of 18,000 feet, Alaska\\'s Mount...</td>\n",
       "      <td>at an altitude of feet alaska s mount st elias...</td>\n",
       "      <td>Mount St. Elias (2009)</td>\n",
       "      <td>Documentary</td>\n",
       "      <td>0</td>\n",
       "    </tr>\n",
       "    <tr>\n",
       "      <th>3</th>\n",
       "      <td>196611</td>\n",
       "      <td>In her first special since 2003, Ellen revisit...</td>\n",
       "      <td>in her first special since ellen revisits her ...</td>\n",
       "      <td>Ellen DeGeneres: Relatable (2018)</td>\n",
       "      <td>Comedy</td>\n",
       "      <td>1</td>\n",
       "    </tr>\n",
       "    <tr>\n",
       "      <th>4</th>\n",
       "      <td>196613</td>\n",
       "      <td>Mike and Sulley are back at Monsters Universit...</td>\n",
       "      <td>mike and sulley are back at monsters universit...</td>\n",
       "      <td>Party Central (2014)</td>\n",
       "      <td>Animation|Children|Comedy|Fantasy</td>\n",
       "      <td>1</td>\n",
       "    </tr>\n",
       "  </tbody>\n",
       "</table>\n",
       "</div>"
      ],
      "text/plain": [
       "  movieId                                              story  \\\n",
       "0  131072  A girl who always tends to fall in love with t...   \n",
       "1  196609  Bigfoot has come to the town of Ellwood City, ...   \n",
       "2  131074  At an altitude of 18,000 feet, Alaska\\'s Mount...   \n",
       "3  196611  In her first special since 2003, Ellen revisit...   \n",
       "4  196613  Mike and Sulley are back at Monsters Universit...   \n",
       "\n",
       "                                               Story  \\\n",
       "0  a girl who always tends to fall in love with t...   \n",
       "1  bigfoot has come to the town of ellwood city p...   \n",
       "2  at an altitude of feet alaska s mount st elias...   \n",
       "3  in her first special since ellen revisits her ...   \n",
       "4  mike and sulley are back at monsters universit...   \n",
       "\n",
       "                               title                             genres  \\\n",
       "0            Jesus liebt mich (2012)                             Comedy   \n",
       "1           Bigfoot The Movie (2015)                      Comedy|Horror   \n",
       "2             Mount St. Elias (2009)                        Documentary   \n",
       "3  Ellen DeGeneres: Relatable (2018)                             Comedy   \n",
       "4               Party Central (2014)  Animation|Children|Comedy|Fantasy   \n",
       "\n",
       "  Com_gen  \n",
       "0       1  \n",
       "1       1  \n",
       "2       0  \n",
       "3       1  \n",
       "4       1  "
      ]
     },
     "execution_count": 12,
     "metadata": {},
     "output_type": "execute_result"
    }
   ],
   "source": [
    "#converting into categorical data\n",
    "movie_student_data.loc[movie_student_data['Com_gen']==True,'Com_gen']=1\n",
    "movie_student_data.loc[movie_student_data['Com_gen']==False,'Com_gen']=0\n",
    "movie_student_data.head()"
   ]
  },
  {
   "cell_type": "markdown",
   "metadata": {},
   "source": [
    "### <b>Step 2:</b> There are 20,000 movies in `movie_story_student_file.csv`file. Use the `movies.csv` file to determine whether a movie is Comedy or not. The final output of this step should be development of a dataframe file that contains three columns: 1) movieId, 2) story, 3) ComedyGenre. The value for the thirrd column should be in a binary format. If the movie is comedy the value should be 1, otherwise 0. Name the new file as `main_dataset`. <br />"
   ]
  },
  {
   "cell_type": "code",
   "execution_count": 13,
   "metadata": {},
   "outputs": [
    {
     "data": {
      "text/html": [
       "<div>\n",
       "<style scoped>\n",
       "    .dataframe tbody tr th:only-of-type {\n",
       "        vertical-align: middle;\n",
       "    }\n",
       "\n",
       "    .dataframe tbody tr th {\n",
       "        vertical-align: top;\n",
       "    }\n",
       "\n",
       "    .dataframe thead th {\n",
       "        text-align: right;\n",
       "    }\n",
       "</style>\n",
       "<table border=\"1\" class=\"dataframe\">\n",
       "  <thead>\n",
       "    <tr style=\"text-align: right;\">\n",
       "      <th></th>\n",
       "      <th>movieId</th>\n",
       "      <th>Story</th>\n",
       "      <th>Com_gen</th>\n",
       "    </tr>\n",
       "  </thead>\n",
       "  <tbody>\n",
       "    <tr>\n",
       "      <th>0</th>\n",
       "      <td>131072</td>\n",
       "      <td>a girl who always tends to fall in love with t...</td>\n",
       "      <td>1</td>\n",
       "    </tr>\n",
       "    <tr>\n",
       "      <th>1</th>\n",
       "      <td>196609</td>\n",
       "      <td>bigfoot has come to the town of ellwood city p...</td>\n",
       "      <td>1</td>\n",
       "    </tr>\n",
       "    <tr>\n",
       "      <th>2</th>\n",
       "      <td>131074</td>\n",
       "      <td>at an altitude of feet alaska s mount st elias...</td>\n",
       "      <td>0</td>\n",
       "    </tr>\n",
       "    <tr>\n",
       "      <th>3</th>\n",
       "      <td>196611</td>\n",
       "      <td>in her first special since ellen revisits her ...</td>\n",
       "      <td>1</td>\n",
       "    </tr>\n",
       "    <tr>\n",
       "      <th>4</th>\n",
       "      <td>196613</td>\n",
       "      <td>mike and sulley are back at monsters universit...</td>\n",
       "      <td>1</td>\n",
       "    </tr>\n",
       "  </tbody>\n",
       "</table>\n",
       "</div>"
      ],
      "text/plain": [
       "  movieId                                              Story Com_gen\n",
       "0  131072  a girl who always tends to fall in love with t...       1\n",
       "1  196609  bigfoot has come to the town of ellwood city p...       1\n",
       "2  131074  at an altitude of feet alaska s mount st elias...       0\n",
       "3  196611  in her first special since ellen revisits her ...       1\n",
       "4  196613  mike and sulley are back at monsters universit...       1"
      ]
     },
     "execution_count": 13,
     "metadata": {},
     "output_type": "execute_result"
    }
   ],
   "source": [
    "#step2: Creating main dataset with 3 columns movieId, Story and com_gen.\n",
    "\n",
    "main_dataset = movie_student_data[['movieId','Story','Com_gen']].copy()\n",
    "main_dataset.head()"
   ]
  },
  {
   "cell_type": "code",
   "execution_count": 14,
   "metadata": {},
   "outputs": [
    {
     "name": "stdout",
     "output_type": "stream",
     "text": [
      "<class 'pandas.core.frame.DataFrame'>\n",
      "Int64Index: 23498 entries, 0 to 23497\n",
      "Data columns (total 3 columns):\n",
      " #   Column   Non-Null Count  Dtype \n",
      "---  ------   --------------  ----- \n",
      " 0   movieId  23498 non-null  object\n",
      " 1   Story    20000 non-null  object\n",
      " 2   Com_gen  23498 non-null  object\n",
      "dtypes: object(3)\n",
      "memory usage: 734.3+ KB\n"
     ]
    }
   ],
   "source": [
    "main_dataset.info()   "
   ]
  },
  {
   "cell_type": "markdown",
   "metadata": {},
   "source": [
    "### <b>Step 3:</b> If you want to just have one train and one test set, then split the `main_dataset` to train and test sets. Otherwise you can use cross validation methods.  \n",
    "#### For training our models we are using 70% of our data and rest is used for testing."
   ]
  },
  {
   "cell_type": "code",
   "execution_count": 15,
   "metadata": {},
   "outputs": [
    {
     "name": "stdout",
     "output_type": "stream",
     "text": [
      "Train shape: (16448, 3)\n",
      "Test shape: (7050, 3)\n"
     ]
    }
   ],
   "source": [
    "# Splitting the dataset:\n",
    "from sklearn.model_selection import train_test_split\n",
    "train, test = train_test_split(main_dataset, test_size=0.3)\n",
    "print(\"Train shape:\",train.shape)\n",
    "print(\"Test shape:\",test.shape)"
   ]
  },
  {
   "cell_type": "code",
   "execution_count": 16,
   "metadata": {},
   "outputs": [],
   "source": [
    "#Forming Wordcloud\n",
    "\n",
    "from os import path\n",
    "from PIL import Image\n",
    "from wordcloud import WordCloud, ImageColorGenerator\n",
    "\n",
    "import matplotlib.pyplot as plt\n",
    "%matplotlib inline"
   ]
  },
  {
   "cell_type": "code",
   "execution_count": 17,
   "metadata": {},
   "outputs": [
    {
     "data": {
      "text/plain": [
       "0    a girl who always tends to fall in love with t...\n",
       "1    bigfoot has come to the town of ellwood city p...\n",
       "Name: Story, dtype: object"
      ]
     },
     "execution_count": 17,
     "metadata": {},
     "output_type": "execute_result"
    }
   ],
   "source": [
    "from sklearn.feature_extraction.text import CountVectorizer \n",
    "#Lets start with first 2 story\n",
    "reviews = main_dataset.Story[0:2]\n",
    "reviews"
   ]
  },
  {
   "cell_type": "code",
   "execution_count": 18,
   "metadata": {},
   "outputs": [
    {
     "data": {
      "text/html": [
       "<div>\n",
       "<style scoped>\n",
       "    .dataframe tbody tr th:only-of-type {\n",
       "        vertical-align: middle;\n",
       "    }\n",
       "\n",
       "    .dataframe tbody tr th {\n",
       "        vertical-align: top;\n",
       "    }\n",
       "\n",
       "    .dataframe thead th {\n",
       "        text-align: right;\n",
       "    }\n",
       "</style>\n",
       "<table border=\"1\" class=\"dataframe\">\n",
       "  <thead>\n",
       "    <tr style=\"text-align: right;\">\n",
       "      <th></th>\n",
       "      <th>all</th>\n",
       "      <th>alongside</th>\n",
       "      <th>always</th>\n",
       "      <th>america</th>\n",
       "      <th>among</th>\n",
       "      <th>an</th>\n",
       "      <th>anchor</th>\n",
       "      <th>and</th>\n",
       "      <th>are</th>\n",
       "      <th>as</th>\n",
       "      <th>...</th>\n",
       "      <th>wdve</th>\n",
       "      <th>who</th>\n",
       "      <th>with</th>\n",
       "      <th>wootton</th>\n",
       "      <th>world</th>\n",
       "      <th>wpxi</th>\n",
       "      <th>wrong</th>\n",
       "      <th>wysocki</th>\n",
       "      <th>xe</th>\n",
       "      <th>yinzer</th>\n",
       "    </tr>\n",
       "  </thead>\n",
       "  <tbody>\n",
       "    <tr>\n",
       "      <th>0</th>\n",
       "      <td>0</td>\n",
       "      <td>0</td>\n",
       "      <td>1</td>\n",
       "      <td>0</td>\n",
       "      <td>0</td>\n",
       "      <td>1</td>\n",
       "      <td>0</td>\n",
       "      <td>0</td>\n",
       "      <td>0</td>\n",
       "      <td>0</td>\n",
       "      <td>...</td>\n",
       "      <td>0</td>\n",
       "      <td>2</td>\n",
       "      <td>1</td>\n",
       "      <td>0</td>\n",
       "      <td>1</td>\n",
       "      <td>0</td>\n",
       "      <td>1</td>\n",
       "      <td>0</td>\n",
       "      <td>0</td>\n",
       "      <td>0</td>\n",
       "    </tr>\n",
       "    <tr>\n",
       "      <th>1</th>\n",
       "      <td>1</td>\n",
       "      <td>1</td>\n",
       "      <td>0</td>\n",
       "      <td>1</td>\n",
       "      <td>1</td>\n",
       "      <td>0</td>\n",
       "      <td>1</td>\n",
       "      <td>6</td>\n",
       "      <td>1</td>\n",
       "      <td>1</td>\n",
       "      <td>...</td>\n",
       "      <td>2</td>\n",
       "      <td>0</td>\n",
       "      <td>0</td>\n",
       "      <td>1</td>\n",
       "      <td>0</td>\n",
       "      <td>1</td>\n",
       "      <td>0</td>\n",
       "      <td>1</td>\n",
       "      <td>5</td>\n",
       "      <td>1</td>\n",
       "    </tr>\n",
       "  </tbody>\n",
       "</table>\n",
       "<p>2 rows × 119 columns</p>\n",
       "</div>"
      ],
      "text/plain": [
       "   all  alongside  always  america  among  an  anchor  and  are  as  ...  \\\n",
       "0    0          0       1        0      0   1       0    0    0   0  ...   \n",
       "1    1          1       0        1      1   0       1    6    1   1  ...   \n",
       "\n",
       "   wdve  who  with  wootton  world  wpxi  wrong  wysocki  xe  yinzer  \n",
       "0     0    2     1        0      1     0      1        0   0       0  \n",
       "1     2    0     0        1      0     1      0        1   5       1  \n",
       "\n",
       "[2 rows x 119 columns]"
      ]
     },
     "execution_count": 18,
     "metadata": {},
     "output_type": "execute_result"
    }
   ],
   "source": [
    "vect = CountVectorizer()\n",
    "vect.fit(reviews)\n",
    "bag_of_words = vect.transform(reviews)\n",
    "pd.DataFrame(bag_of_words.toarray(), columns=vect.get_feature_names())"
   ]
  },
  {
   "cell_type": "code",
   "execution_count": 19,
   "metadata": {},
   "outputs": [
    {
     "data": {
      "image/png": "[encoded data removed]",
      "text/plain": [
       "<Figure size 432x288 with 1 Axes>"
      ]
     },
     "metadata": {
      "needs_background": "light"
     },
     "output_type": "display_data"
    }
   ],
   "source": [
    "wordcloud = WordCloud().generate(reviews[0])\n",
    "plt.imshow(wordcloud, interpolation='bilinear')\n",
    "plt.axis(\"off\");"
   ]
  },
  {
   "cell_type": "code",
   "execution_count": 20,
   "metadata": {},
   "outputs": [
    {
     "data": {
      "image/png": "[encoded data removed]",
      "text/plain": [
       "<Figure size 432x288 with 1 Axes>"
      ]
     },
     "metadata": {
      "needs_background": "light"
     },
     "output_type": "display_data"
    }
   ],
   "source": [
    "wordcloud = WordCloud().generate(reviews[1])\n",
    "plt.imshow(wordcloud, interpolation='bilinear')\n",
    "plt.axis(\"off\");"
   ]
  },
  {
   "cell_type": "code",
   "execution_count": 21,
   "metadata": {},
   "outputs": [
    {
     "data": {
      "image/png": "[encoded data removed]",
      "text/plain": [
       "<Figure size 432x288 with 1 Axes>"
      ]
     },
     "metadata": {
      "needs_background": "light"
     },
     "output_type": "display_data"
    }
   ],
   "source": [
    "wordcloud = WordCloud(max_font_size=90, max_words=100, \n",
    "                      background_color=\"white\")\n",
    "wordcloud.generate(reviews[0])\n",
    "plt.imshow(wordcloud, interpolation=\"bilinear\")\n",
    "plt.axis(\"off\");"
   ]
  },
  {
   "cell_type": "markdown",
   "metadata": {},
   "source": [
    "### <b>Step 4:</b> Use your supervised learning and text analysis knowledge to develope different predictive models (i.e. logestic regression, random forest, ...). Test the performance of your models in terms of accuracy, precision, recall, and F1 scores. \n",
    "### For this step we are using different Text analysis and predictive models.\n",
    "#### Text Analysis methods: \n",
    "<ul>\n",
    "    <ol>Count Vectorization</ol>\n",
    "    <ol>TF-IDF</ol>\n",
    "    <ol>Lemmatization</ol>\n",
    "    <ol>LDA</ol> \n",
    "</ul>\n",
    "\n",
    "#### Predictive Models:\n",
    "<ul>\n",
    "    <ol>Logistic Regression</ol>\n",
    "    <ol>Random Forest</ol>\n",
    "    <ol>Multinomial Naive Bayes</ol>\n",
    "    <ol>Stochastic Gradient Descent</ol> \n",
    "    <ol>Support Vector MAchine</ol>\n",
    "</ul>\n",
    "\n"
   ]
  },
  {
   "cell_type": "code",
   "execution_count": 22,
   "metadata": {},
   "outputs": [
    {
     "name": "stdout",
     "output_type": "stream",
     "text": [
      "type of text_train: <class 'pandas.core.series.Series'>\n",
      "length of text_train: 16448\n",
      "text[0]: bigfoot has come to the town of ellwood city pa and is causing big problems now it xe x x s up to three town locals to take him down funded by a kickstarter campaign and filmed in ellwood city la filmmaker and hometown hero jared show assembled a colorful cast of characters from all over the region to bring his vision to life the movie features some of pittsburgh xe x x s most famous and best loved celebrities like curt wootton pittsburgh dad joanie dodds america xe x x s next top model jim krenn stand up comic formerly of the wdve morning show mike wysocki wdve and even veteran news anchor darieth chisolm formerly of wpxi among others in this comedy horror flick mullets guns and beer are in full supply as the movie skewers the pittsburgh xe x x yinzer xe x x stereotype right alongside the bigfoot myth\n"
     ]
    }
   ],
   "source": [
    "text, y = train.Story, train.Com_gen\n",
    "print(\"type of text_train: {}\".format(type(text)))\n",
    "print(\"length of text_train: {}\".format(len(text)))\n",
    "print(\"text[0]: {}\".format(text[1]))\n"
   ]
  },
  {
   "cell_type": "code",
   "execution_count": 23,
   "metadata": {},
   "outputs": [
    {
     "data": {
      "text/plain": [
       "{0, 1}"
      ]
     },
     "execution_count": 23,
     "metadata": {},
     "output_type": "execute_result"
    }
   ],
   "source": [
    "set(y)"
   ]
  },
  {
   "cell_type": "code",
   "execution_count": 24,
   "metadata": {},
   "outputs": [
    {
     "data": {
      "text/plain": [
       "array([12174,  4274])"
      ]
     },
     "execution_count": 24,
     "metadata": {},
     "output_type": "execute_result"
    }
   ],
   "source": [
    "np.bincount(y)"
   ]
  },
  {
   "cell_type": "markdown",
   "metadata": {},
   "source": [
    "### Method 1, Count Vectorizer"
   ]
  },
  {
   "cell_type": "code",
   "execution_count": 25,
   "metadata": {},
   "outputs": [],
   "source": [
    "# removing stop words\n",
    "from sklearn.feature_extraction.text import CountVectorizer \n",
    "vect = CountVectorizer(ngram_range=(1,3),stop_words=\"english\")\n",
    "x1 = vect.fit_transform(text.apply(lambda x1: np.str_(x1)))"
   ]
  },
  {
   "cell_type": "code",
   "execution_count": 26,
   "metadata": {},
   "outputs": [],
   "source": [
    "# Creating empty lists to store the predicted values of given respective scores\n",
    "accuracy_list = []\n",
    "f1_list = []\n",
    "precision_list = []\n",
    "recall_list = []"
   ]
  },
  {
   "cell_type": "code",
   "execution_count": 27,
   "metadata": {},
   "outputs": [],
   "source": [
    "# Model 1: Logistic Regression\n",
    "from sklearn.linear_model import LogisticRegression\n",
    "from sklearn.model_selection import train_test_split\n",
    "from sklearn.metrics import accuracy_score\n",
    "\n",
    "y=y.astype('int')\n",
    "model_LR = LogisticRegression(max_iter=300)\n",
    "x_train, x_test, y_train, y_test = train_test_split(x1, y, test_size=0.3, random_state=0)\n",
    "\n",
    "model_LR.fit(x_train, y_train)\n",
    "y1_test_hat = model_LR.predict(x_test)\n",
    "accuracy_list.append(round(accuracy_score(y_test,y1_test_hat) * 100,2))"
   ]
  },
  {
   "cell_type": "code",
   "execution_count": 28,
   "metadata": {},
   "outputs": [
    {
     "name": "stdout",
     "output_type": "stream",
     "text": [
      "              precision    recall  f1-score   support\n",
      "\n",
      "           0       0.79      0.96      0.87      3684\n",
      "           1       0.68      0.27      0.39      1251\n",
      "\n",
      "    accuracy                           0.78      4935\n",
      "   macro avg       0.74      0.61      0.63      4935\n",
      "weighted avg       0.77      0.78      0.75      4935\n",
      "\n"
     ]
    }
   ],
   "source": [
    "from sklearn import metrics\n",
    "\n",
    "precision_list.append(metrics.precision_score(y_test, y1_test_hat, average= \"weighted\") )\n",
    "f1_list.append(metrics.f1_score(y_test, y1_test_hat, average= \"weighted\") )\n",
    "recall_list.append(metrics.recall_score(y_test, y1_test_hat, average= \"weighted\") )\n",
    "print(metrics.classification_report(y_test, y1_test_hat))         "
   ]
  },
  {
   "cell_type": "code",
   "execution_count": 29,
   "metadata": {},
   "outputs": [],
   "source": [
    "# Model 2: Random Forest\n",
    "from sklearn.ensemble import RandomForestClassifier\n",
    "model_RFC = RandomForestClassifier(n_estimators=200, random_state=0)\n",
    "model_RFC.fit(x_train,y_train)                                          #fitting the model\n",
    "y2_test_hat = model_RFC.predict(x_test)\n",
    "accuracy_list.append(round(accuracy_score(y_test,y2_test_hat) * 100,2))"
   ]
  },
  {
   "cell_type": "code",
   "execution_count": 30,
   "metadata": {},
   "outputs": [
    {
     "name": "stdout",
     "output_type": "stream",
     "text": [
      "              precision    recall  f1-score   support\n",
      "\n",
      "           0       0.76      1.00      0.86      3684\n",
      "           1       0.90      0.06      0.12      1251\n",
      "\n",
      "    accuracy                           0.76      4935\n",
      "   macro avg       0.83      0.53      0.49      4935\n",
      "weighted avg       0.79      0.76      0.67      4935\n",
      "\n"
     ]
    }
   ],
   "source": [
    "precision_list.append(metrics.precision_score(y_test, y2_test_hat, average= \"weighted\") )\n",
    "f1_list.append(metrics.f1_score(y_test, y2_test_hat, average= \"weighted\") )\n",
    "recall_list.append(metrics.recall_score(y_test, y2_test_hat, average= \"weighted\") )\n",
    "print(metrics.classification_report(y_test, y2_test_hat))         "
   ]
  },
  {
   "cell_type": "code",
   "execution_count": 31,
   "metadata": {},
   "outputs": [],
   "source": [
    "# Model 3: MNB along with accuracy, confusion matrix and classification report\n",
    "from sklearn.naive_bayes import MultinomialNB\n",
    "model_MNB = MultinomialNB()\n",
    "model_MNB.fit(x_train, y_train)\n",
    "y3_test_hat = model_MNB.predict(x_test)\n",
    "accuracy_list.append(round(accuracy_score(y_test,y3_test_hat) * 100,2))"
   ]
  },
  {
   "cell_type": "code",
   "execution_count": 32,
   "metadata": {},
   "outputs": [
    {
     "name": "stdout",
     "output_type": "stream",
     "text": [
      "              precision    recall  f1-score   support\n",
      "\n",
      "           0       0.83      0.83      0.83      3684\n",
      "           1       0.51      0.51      0.51      1251\n",
      "\n",
      "    accuracy                           0.75      4935\n",
      "   macro avg       0.67      0.67      0.67      4935\n",
      "weighted avg       0.75      0.75      0.75      4935\n",
      "\n"
     ]
    }
   ],
   "source": [
    "precision_list.append(metrics.precision_score(y_test, y3_test_hat, average= \"weighted\") )\n",
    "f1_list.append(metrics.f1_score(y_test, y3_test_hat, average= \"weighted\") )\n",
    "recall_list.append(metrics.recall_score(y_test, y3_test_hat, average= \"weighted\") )\n",
    "print(metrics.classification_report(y_test, y3_test_hat))         "
   ]
  },
  {
   "cell_type": "code",
   "execution_count": 33,
   "metadata": {},
   "outputs": [],
   "source": [
    "# Model 4: Stochastic Gradient Descent \n",
    "from sklearn.linear_model import SGDClassifier\n",
    "model_SGD = SGDClassifier()\n",
    "model_SGD.fit(x_train, y_train)\n",
    "y4_test_hat = model_SGD.predict(x_test)\n",
    "accuracy_list.append(round(accuracy_score(y_test,y4_test_hat) * 100,2))"
   ]
  },
  {
   "cell_type": "code",
   "execution_count": 34,
   "metadata": {},
   "outputs": [
    {
     "name": "stdout",
     "output_type": "stream",
     "text": [
      "              precision    recall  f1-score   support\n",
      "\n",
      "           0       0.79      0.95      0.86      3684\n",
      "           1       0.65      0.27      0.38      1251\n",
      "\n",
      "    accuracy                           0.78      4935\n",
      "   macro avg       0.72      0.61      0.62      4935\n",
      "weighted avg       0.76      0.78      0.74      4935\n",
      "\n"
     ]
    }
   ],
   "source": [
    "precision_list.append(metrics.precision_score(y_test, y4_test_hat, average= \"weighted\") )\n",
    "f1_list.append(metrics.f1_score(y_test, y4_test_hat, average= \"weighted\") )\n",
    "recall_list.append(metrics.recall_score(y_test, y4_test_hat, average= \"weighted\") )\n",
    "print(metrics.classification_report(y_test, y4_test_hat))         "
   ]
  },
  {
   "cell_type": "code",
   "execution_count": 35,
   "metadata": {},
   "outputs": [],
   "source": [
    "# Model 5: Support Vector Machine\n",
    "from sklearn.svm import SVC\n",
    "SVM = SVC(C=1, kernel='linear', gamma=\"auto\")\n",
    "x_train, x_test, y_train, y_test = train_test_split(x1, y, test_size=0.3, random_state=0)\n",
    "SVM.fit(x_train, y_train)\n",
    "y5_test_hat = SVM.predict(x_test)\n",
    "accuracy_list.append(round(accuracy_score(y_test,y5_test_hat) * 100,2))"
   ]
  },
  {
   "cell_type": "code",
   "execution_count": 36,
   "metadata": {},
   "outputs": [
    {
     "name": "stdout",
     "output_type": "stream",
     "text": [
      "              precision    recall  f1-score   support\n",
      "\n",
      "           0       0.80      0.94      0.86      3684\n",
      "           1       0.63      0.31      0.42      1251\n",
      "\n",
      "    accuracy                           0.78      4935\n",
      "   macro avg       0.71      0.62      0.64      4935\n",
      "weighted avg       0.76      0.78      0.75      4935\n",
      "\n"
     ]
    }
   ],
   "source": [
    "precision_list.append(metrics.precision_score(y_test, y5_test_hat, average= \"weighted\") )\n",
    "f1_list.append(metrics.f1_score(y_test, y5_test_hat, average= \"weighted\") )\n",
    "recall_list.append(metrics.recall_score(y_test, y5_test_hat, average= \"weighted\") )\n",
    "print(metrics.classification_report(y_test, y5_test_hat))         "
   ]
  },
  {
   "cell_type": "code",
   "execution_count": 37,
   "metadata": {},
   "outputs": [
    {
     "name": "stdout",
     "output_type": "stream",
     "text": [
      " Accuracy Score for different models : \n",
      "\tLogistic Regression: 78.3\n",
      "\tRandom Forest: 76.11\n",
      "\tMultinomialNB: 75.02\n",
      "\tStochastic Gradient Descent: 77.79\n",
      "\tSVM: 77.85\n"
     ]
    }
   ],
   "source": [
    "print(\" Accuracy Score for different models : \")\n",
    "print(\"\\tLogistic Regression:\",accuracy_list[0])\n",
    "print(\"\\tRandom Forest:\",accuracy_list[1])\n",
    "print(\"\\tMultinomialNB:\",accuracy_list[2])\n",
    "print(\"\\tStochastic Gradient Descent:\",accuracy_list[3])\n",
    "print(\"\\tSVM:\",accuracy_list[4])"
   ]
  },
  {
   "cell_type": "markdown",
   "metadata": {},
   "source": [
    "## Results:\n",
    "Using the above CountVectorization method for Text Analysis, the best model is Logistic Regression, with accuracy score of 78.3.\n",
    "#### Presenting bar graphs to properly visualize the accuracy, F-1, Precision, and Recall score for above used models."
   ]
  },
  {
   "cell_type": "code",
   "execution_count": 38,
   "metadata": {},
   "outputs": [
    {
     "data": {
      "image/png": "[encoded data removed]",
      "text/plain": [
       "<Figure size 2880x1080 with 4 Axes>"
      ]
     },
     "metadata": {
      "needs_background": "light"
     },
     "output_type": "display_data"
    }
   ],
   "source": [
    "import matplotlib.pyplot as plt\n",
    "import seaborn as sns \n",
    "\n",
    "Models=['Logistic Regression','Random Forest','MultinomialNB','Stochastic Gradient Descent ','SVM']\n",
    "\n",
    "# we plot the various scores from previous cell in a bar chart for comparison\n",
    "f, axes = plt.subplots(2, 2,figsize=(40,15))\n",
    "sns.barplot(x=Models,y=accuracy_list, ax=axes[0][0],palette='summer_r').set_title(\"Accuracy\")\n",
    "sns.barplot(x=Models,y=precision_list, ax=axes[0][1],palette='inferno_r').set_title(\"Precision\")\n",
    "sns.barplot(x=Models,y=f1_list, ax=axes[1][0],palette='spring_r').set_title(\"F1\")\n",
    "sns.barplot(x=Models,y=recall_list, ax=axes[1][1],palette='winter_r').set_title(\"Recall\")\n",
    "\n",
    "plt.show()"
   ]
  },
  {
   "cell_type": "markdown",
   "metadata": {},
   "source": [
    "### Method 2, TF-IDF "
   ]
  },
  {
   "cell_type": "code",
   "execution_count": 39,
   "metadata": {},
   "outputs": [],
   "source": [
    "# Method 2\n",
    "# Applying TFidf along with removing stop words\n",
    "from sklearn.feature_extraction.text import TfidfVectorizer\n",
    "vect = TfidfVectorizer(ngram_range=(1,3),stop_words=\"english\")\n",
    "x = vect.fit_transform(text.apply(lambda x: np.str_(x)))"
   ]
  },
  {
   "cell_type": "code",
   "execution_count": 40,
   "metadata": {},
   "outputs": [],
   "source": [
    "# Creating empty lists\n",
    "accuracy_list = []\n",
    "f1_list = []\n",
    "precision_list = []\n",
    "recall_list = []"
   ]
  },
  {
   "cell_type": "code",
   "execution_count": 41,
   "metadata": {},
   "outputs": [],
   "source": [
    "# Model 1: Logistic Regression\n",
    "from sklearn.linear_model import LogisticRegression\n",
    "from sklearn.model_selection import train_test_split\n",
    "from sklearn.metrics import accuracy_score\n",
    "y=y.astype('int')\n",
    "x_train, x_test, y_train, y_test = train_test_split(x, y, test_size=0.3, random_state=0)\n",
    "model_LR = LogisticRegression(max_iter=300)\n",
    "model_LR.fit(x_train, y_train)\n",
    "y1_test_hat = model_LR.predict(x_test)"
   ]
  },
  {
   "cell_type": "code",
   "execution_count": 42,
   "metadata": {},
   "outputs": [
    {
     "name": "stdout",
     "output_type": "stream",
     "text": [
      "              precision    recall  f1-score   support\n",
      "\n",
      "           0       0.75      1.00      0.86      3684\n",
      "           1       0.73      0.01      0.02      1251\n",
      "\n",
      "    accuracy                           0.75      4935\n",
      "   macro avg       0.74      0.50      0.44      4935\n",
      "weighted avg       0.74      0.75      0.64      4935\n",
      "\n"
     ]
    }
   ],
   "source": [
    "accuracy_list.append(round(metrics.accuracy_score(y_test,y1_test_hat) * 100,2))\n",
    "precision_list.append(metrics.precision_score(y_test, y1_test_hat, average= \"weighted\") )\n",
    "f1_list.append(metrics.f1_score(y_test, y1_test_hat, average= \"weighted\") )\n",
    "recall_list.append(metrics.recall_score(y_test, y1_test_hat, average= \"weighted\") )\n",
    "print(metrics.classification_report(y_test, y1_test_hat))         "
   ]
  },
  {
   "cell_type": "code",
   "execution_count": 43,
   "metadata": {},
   "outputs": [],
   "source": [
    "# Model 2: Random Forest\n",
    "from sklearn.ensemble import RandomForestClassifier\n",
    "model_RFC = RandomForestClassifier(n_estimators=200, random_state=0)\n",
    "model_RFC.fit(x_train,y_train)                                          \n",
    "y2_test_hat = model_RFC.predict(x_test)"
   ]
  },
  {
   "cell_type": "code",
   "execution_count": 44,
   "metadata": {},
   "outputs": [
    {
     "name": "stdout",
     "output_type": "stream",
     "text": [
      "              precision    recall  f1-score   support\n",
      "\n",
      "           0       0.76      1.00      0.86      3684\n",
      "           1       0.88      0.06      0.11      1251\n",
      "\n",
      "    accuracy                           0.76      4935\n",
      "   macro avg       0.82      0.53      0.48      4935\n",
      "weighted avg       0.79      0.76      0.67      4935\n",
      "\n"
     ]
    }
   ],
   "source": [
    "accuracy_list.append(round(metrics.accuracy_score(y_test,y2_test_hat) * 100,2))\n",
    "precision_list.append(metrics.precision_score(y_test, y2_test_hat, average= \"weighted\") )\n",
    "f1_list.append(metrics.f1_score(y_test, y2_test_hat, average= \"weighted\") )\n",
    "recall_list.append(metrics.recall_score(y_test, y2_test_hat, average= \"weighted\") )\n",
    "print(metrics.classification_report(y_test, y2_test_hat))         "
   ]
  },
  {
   "cell_type": "code",
   "execution_count": 45,
   "metadata": {},
   "outputs": [],
   "source": [
    "# Model 3: Multinomial Naive Bayes\n",
    "from sklearn.naive_bayes import MultinomialNB\n",
    "model_MNB = MultinomialNB()\n",
    "model_MNB.fit(x_train, y_train)\n",
    "y3_test_hat = model_MNB.predict(x_test)"
   ]
  },
  {
   "cell_type": "code",
   "execution_count": 46,
   "metadata": {},
   "outputs": [
    {
     "name": "stdout",
     "output_type": "stream",
     "text": [
      "              precision    recall  f1-score   support\n",
      "\n",
      "           0       0.75      1.00      0.85      3684\n",
      "           1       0.00      0.00      0.00      1251\n",
      "\n",
      "    accuracy                           0.75      4935\n",
      "   macro avg       0.37      0.50      0.43      4935\n",
      "weighted avg       0.56      0.75      0.64      4935\n",
      "\n"
     ]
    },
    {
     "name": "stderr",
     "output_type": "stream",
     "text": [
      "/opt/anaconda3/lib/python3.8/site-packages/sklearn/metrics/_classification.py:1221: UndefinedMetricWarning: Precision is ill-defined and being set to 0.0 in labels with no predicted samples. Use `zero_division` parameter to control this behavior.\n",
      "  _warn_prf(average, modifier, msg_start, len(result))\n",
      "/opt/anaconda3/lib/python3.8/site-packages/sklearn/metrics/_classification.py:1221: UndefinedMetricWarning: Precision and F-score are ill-defined and being set to 0.0 in labels with no predicted samples. Use `zero_division` parameter to control this behavior.\n",
      "  _warn_prf(average, modifier, msg_start, len(result))\n"
     ]
    }
   ],
   "source": [
    "accuracy_list.append(round(metrics.accuracy_score(y_test,y3_test_hat) * 100,2))\n",
    "precision_list.append(metrics.precision_score(y_test, y3_test_hat, average= \"weighted\") )\n",
    "f1_list.append(metrics.f1_score(y_test, y3_test_hat, average= \"weighted\") )\n",
    "recall_list.append(metrics.recall_score(y_test, y3_test_hat, average= \"weighted\") )\n",
    "print(metrics.classification_report(y_test, y3_test_hat))         "
   ]
  },
  {
   "cell_type": "code",
   "execution_count": 47,
   "metadata": {},
   "outputs": [],
   "source": [
    "# Model 4: Stochastic Gradient Descent \n",
    "from sklearn.linear_model import SGDClassifier\n",
    "model_SGD = SGDClassifier()\n",
    "model_SGD.fit(x_train, y_train)\n",
    "y4_test_hat = model_SGD.predict(x_test)"
   ]
  },
  {
   "cell_type": "code",
   "execution_count": 48,
   "metadata": {},
   "outputs": [
    {
     "name": "stdout",
     "output_type": "stream",
     "text": [
      "              precision    recall  f1-score   support\n",
      "\n",
      "           0       0.76      1.00      0.86      3684\n",
      "           1       0.87      0.09      0.17      1251\n",
      "\n",
      "    accuracy                           0.77      4935\n",
      "   macro avg       0.82      0.54      0.52      4935\n",
      "weighted avg       0.79      0.77      0.69      4935\n",
      "\n"
     ]
    }
   ],
   "source": [
    "accuracy_list.append(round(metrics.accuracy_score(y_test,y4_test_hat) * 100,2))\n",
    "precision_list.append(metrics.precision_score(y_test, y4_test_hat, average= \"weighted\") )\n",
    "f1_list.append(metrics.f1_score(y_test, y4_test_hat, average= \"weighted\") )\n",
    "recall_list.append(metrics.recall_score(y_test, y4_test_hat, average= \"weighted\") )\n",
    "print(metrics.classification_report(y_test, y4_test_hat))         "
   ]
  },
  {
   "cell_type": "code",
   "execution_count": 49,
   "metadata": {},
   "outputs": [],
   "source": [
    "# Model 5: Support Vector Machine\n",
    "from sklearn.svm import SVC\n",
    "SVM = SVC(C=1, kernel='linear', gamma=\"auto\")\n",
    "SVM.fit(x_train, y_train)\n",
    "y5_test_hat = SVM.predict(x_test)"
   ]
  },
  {
   "cell_type": "code",
   "execution_count": 50,
   "metadata": {},
   "outputs": [
    {
     "name": "stdout",
     "output_type": "stream",
     "text": [
      "              precision    recall  f1-score   support\n",
      "\n",
      "           0       0.77      0.99      0.87      3684\n",
      "           1       0.82      0.12      0.21      1251\n",
      "\n",
      "    accuracy                           0.77      4935\n",
      "   macro avg       0.79      0.56      0.54      4935\n",
      "weighted avg       0.78      0.77      0.70      4935\n",
      "\n"
     ]
    }
   ],
   "source": [
    "accuracy_list.append(round(metrics.accuracy_score(y_test,y5_test_hat) * 100,2))\n",
    "precision_list.append(metrics.precision_score(y_test, y5_test_hat, average= \"weighted\") )\n",
    "f1_list.append(metrics.f1_score(y_test, y5_test_hat, average= \"weighted\") )\n",
    "recall_list.append(metrics.recall_score(y_test, y5_test_hat, average= \"weighted\") )\n",
    "print(metrics.classification_report(y_test, y5_test_hat))        "
   ]
  },
  {
   "cell_type": "code",
   "execution_count": 51,
   "metadata": {},
   "outputs": [
    {
     "name": "stdout",
     "output_type": "stream",
     "text": [
      " Accuracy Score for different models : \n",
      "\tLogistic Regression: 74.79\n",
      "\tRandom Forest: 75.91\n",
      "\tMultinomialNB: 74.65\n",
      "\tStochastic Gradient Descent: 76.64\n",
      "\tSVM: 77.04\n"
     ]
    }
   ],
   "source": [
    "print(\" Accuracy Score for different models : \")\n",
    "print(\"\\tLogistic Regression:\",accuracy_list[0])\n",
    "print(\"\\tRandom Forest:\",accuracy_list[1])\n",
    "print(\"\\tMultinomialNB:\",accuracy_list[2])\n",
    "print(\"\\tStochastic Gradient Descent:\",accuracy_list[3])\n",
    "print(\"\\tSVM:\",accuracy_list[4])"
   ]
  },
  {
   "cell_type": "markdown",
   "metadata": {},
   "source": [
    "## Results:\n",
    "Using the above TF-IDF method for Text Analysis, the best model is SVM, with accuracy score of 77.04.\n",
    "#### Presenting bar graphs to properly visualize the accuracy, F-1, Precision, and Recall score for above used models."
   ]
  },
  {
   "cell_type": "code",
   "execution_count": 52,
   "metadata": {},
   "outputs": [
    {
     "data": {
      "image/png": "[encoded data removed]",
      "text/plain": [
       "<Figure size 2880x1080 with 4 Axes>"
      ]
     },
     "metadata": {
      "needs_background": "light"
     },
     "output_type": "display_data"
    }
   ],
   "source": [
    "import matplotlib.pyplot as plt\n",
    "import seaborn as sns \n",
    "Models=['Logistic Regression','Random Forest','MultinomialNB','Stochastic Gradient Descent ','SVM']\n",
    "\n",
    "# we plot the various scores from previous cell in a bar chart for comparison\n",
    "f, axes = plt.subplots(2, 2,figsize=(40,15))\n",
    "sns.barplot(x=Models,y=accuracy_list, ax=axes[0][0],palette='summer_r').set_title(\"Accuracy\")\n",
    "sns.barplot(x=Models,y=precision_list, ax=axes[0][1],palette='inferno_r').set_title(\"Precision\")\n",
    "sns.barplot(x=Models,y=f1_list, ax=axes[1][0],palette='spring_r').set_title(\"F1\")\n",
    "sns.barplot(x=Models,y=recall_list, ax=axes[1][1],palette='winter_r').set_title(\"Recall\")\n",
    "\n",
    "plt.show()"
   ]
  },
  {
   "cell_type": "code",
   "execution_count": 53,
   "metadata": {},
   "outputs": [],
   "source": [
    "# import sys\n",
    "# !conda install --yes --prefix \"{sys.prefix}\" nltk"
   ]
  },
  {
   "cell_type": "code",
   "execution_count": 54,
   "metadata": {},
   "outputs": [
    {
     "name": "stderr",
     "output_type": "stream",
     "text": [
      "[nltk_data] Downloading package punkt to /Users/T/nltk_data...\n",
      "[nltk_data]   Unzipping tokenizers/punkt.zip.\n",
      "[nltk_data] Downloading package wordnet to /Users/T/nltk_data...\n",
      "[nltk_data]   Package wordnet is already up-to-date!\n"
     ]
    },
    {
     "data": {
      "text/plain": [
       "True"
      ]
     },
     "execution_count": 54,
     "metadata": {},
     "output_type": "execute_result"
    }
   ],
   "source": [
    "import nltk\n",
    "nltk.download('punkt')\n",
    "nltk.download('wordnet')"
   ]
  },
  {
   "cell_type": "markdown",
   "metadata": {},
   "source": [
    "### Method 03, Lemmatization\n"
   ]
  },
  {
   "cell_type": "code",
   "execution_count": 55,
   "metadata": {},
   "outputs": [],
   "source": [
    "# import sys\n",
    "# !conda install --yes --prefix \"{sys.prefix}\" spacy "
   ]
  },
  {
   "cell_type": "code",
   "execution_count": 56,
   "metadata": {},
   "outputs": [
    {
     "name": "stdout",
     "output_type": "stream",
     "text": [
      "Requirement already satisfied: en_core_web_sm==2.3.1 from https://github.com/explosion/spacy-models/releases/download/en_core_web_sm-2.3.1/en_core_web_sm-2.3.1.tar.gz#egg=en_core_web_sm==2.3.1 in /opt/anaconda3/lib/python3.8/site-packages (2.3.1)\n",
      "Requirement already satisfied: spacy<2.4.0,>=2.3.0 in /opt/anaconda3/lib/python3.8/site-packages (from en_core_web_sm==2.3.1) (2.3.2)\n",
      "Requirement already satisfied: murmurhash<1.1.0,>=0.28.0 in /opt/anaconda3/lib/python3.8/site-packages (from spacy<2.4.0,>=2.3.0->en_core_web_sm==2.3.1) (1.0.4)\n",
      "Requirement already satisfied: srsly<1.1.0,>=1.0.2 in /opt/anaconda3/lib/python3.8/site-packages (from spacy<2.4.0,>=2.3.0->en_core_web_sm==2.3.1) (1.0.4)\n",
      "Requirement already satisfied: numpy>=1.15.0 in /opt/anaconda3/lib/python3.8/site-packages (from spacy<2.4.0,>=2.3.0->en_core_web_sm==2.3.1) (1.18.5)\n",
      "Requirement already satisfied: plac<1.2.0,>=0.9.6 in /opt/anaconda3/lib/python3.8/site-packages (from spacy<2.4.0,>=2.3.0->en_core_web_sm==2.3.1) (1.1.3)\n",
      "Requirement already satisfied: tqdm<5.0.0,>=4.38.0 in /opt/anaconda3/lib/python3.8/site-packages (from spacy<2.4.0,>=2.3.0->en_core_web_sm==2.3.1) (4.47.0)\n",
      "Requirement already satisfied: preshed<3.1.0,>=3.0.2 in /opt/anaconda3/lib/python3.8/site-packages (from spacy<2.4.0,>=2.3.0->en_core_web_sm==2.3.1) (3.0.4)\n",
      "Requirement already satisfied: cymem<2.1.0,>=2.0.2 in /opt/anaconda3/lib/python3.8/site-packages (from spacy<2.4.0,>=2.3.0->en_core_web_sm==2.3.1) (2.0.4)\n",
      "Requirement already satisfied: requests<3.0.0,>=2.13.0 in /opt/anaconda3/lib/python3.8/site-packages (from spacy<2.4.0,>=2.3.0->en_core_web_sm==2.3.1) (2.24.0)\n",
      "Requirement already satisfied: catalogue<1.1.0,>=0.0.7 in /opt/anaconda3/lib/python3.8/site-packages (from spacy<2.4.0,>=2.3.0->en_core_web_sm==2.3.1) (1.0.0)\n",
      "Requirement already satisfied: blis<0.5.0,>=0.4.0 in /opt/anaconda3/lib/python3.8/site-packages (from spacy<2.4.0,>=2.3.0->en_core_web_sm==2.3.1) (0.4.1)\n",
      "Requirement already satisfied: wasabi<1.1.0,>=0.4.0 in /opt/anaconda3/lib/python3.8/site-packages (from spacy<2.4.0,>=2.3.0->en_core_web_sm==2.3.1) (0.8.0)\n",
      "Requirement already satisfied: thinc==7.4.1 in /opt/anaconda3/lib/python3.8/site-packages (from spacy<2.4.0,>=2.3.0->en_core_web_sm==2.3.1) (7.4.1)\n",
      "Requirement already satisfied: setuptools in /opt/anaconda3/lib/python3.8/site-packages (from spacy<2.4.0,>=2.3.0->en_core_web_sm==2.3.1) (49.2.0.post20200714)\n",
      "Requirement already satisfied: idna<3,>=2.5 in /opt/anaconda3/lib/python3.8/site-packages (from requests<3.0.0,>=2.13.0->spacy<2.4.0,>=2.3.0->en_core_web_sm==2.3.1) (2.10)\n",
      "Requirement already satisfied: chardet<4,>=3.0.2 in /opt/anaconda3/lib/python3.8/site-packages (from requests<3.0.0,>=2.13.0->spacy<2.4.0,>=2.3.0->en_core_web_sm==2.3.1) (3.0.4)\n",
      "Requirement already satisfied: urllib3!=1.25.0,!=1.25.1,<1.26,>=1.21.1 in /opt/anaconda3/lib/python3.8/site-packages (from requests<3.0.0,>=2.13.0->spacy<2.4.0,>=2.3.0->en_core_web_sm==2.3.1) (1.25.9)\n",
      "Requirement already satisfied: certifi>=2017.4.17 in /opt/anaconda3/lib/python3.8/site-packages (from requests<3.0.0,>=2.13.0->spacy<2.4.0,>=2.3.0->en_core_web_sm==2.3.1) (2020.6.20)\n",
      "\u001b[38;5;2m✔ Download and installation successful\u001b[0m\n",
      "You can now load the model via spacy.load('en_core_web_sm')\n",
      "\u001b[38;5;2m✔ Linking successful\u001b[0m\n",
      "/opt/anaconda3/lib/python3.8/site-packages/en_core_web_sm -->\n",
      "/opt/anaconda3/lib/python3.8/site-packages/spacy/data/en\n",
      "You can now load the model via spacy.load('en')\n"
     ]
    }
   ],
   "source": [
    "!python -m spacy download en"
   ]
  },
  {
   "cell_type": "code",
   "execution_count": 57,
   "metadata": {},
   "outputs": [],
   "source": [
    "# Method 3\n",
    "from html import unescape\n",
    "import spacy\n",
    "\n",
    "spacy.load('en')\n",
    "lemmatizer = spacy.lang.en.English()\n",
    "\n",
    "# defining new tokenizer\n",
    "def my_tokenizer(doc):\n",
    "    tokens = lemmatizer(doc)\n",
    "    return([token.lemma_ for token in tokens])\n",
    "\n",
    "# remove html entities from docs and set everything to lowercase\n",
    "def my_preprocessor(doc):\n",
    "    return(unescape(doc).lower())"
   ]
  },
  {
   "cell_type": "code",
   "execution_count": 58,
   "metadata": {},
   "outputs": [],
   "source": [
    "from sklearn.feature_extraction.text import TfidfVectorizer\n",
    "custom_vec = TfidfVectorizer(tokenizer=my_tokenizer, \n",
    "                             preprocessor=my_preprocessor, \n",
    "                             ngram_range=(1,3),stop_words=\"english\")\n",
    "x = custom_vec.fit_transform(text.apply(lambda x: np.str_(x)))"
   ]
  },
  {
   "cell_type": "code",
   "execution_count": 59,
   "metadata": {},
   "outputs": [],
   "source": [
    "# Creating empty lists\n",
    "accuracy_list = []\n",
    "f1_list = []\n",
    "precision_list = []\n",
    "recall_list = []"
   ]
  },
  {
   "cell_type": "code",
   "execution_count": 60,
   "metadata": {},
   "outputs": [],
   "source": [
    "# Model 1: Logistic Regression\n",
    "from sklearn.linear_model import LogisticRegression\n",
    "from sklearn.model_selection import train_test_split\n",
    "y=y.astype('int')\n",
    "x_train, x_test, y_train, y_test = train_test_split(x, y, test_size=0.3, random_state=0)\n",
    "model_LR = LogisticRegression(max_iter=300)\n",
    "model_LR.fit(x_train, y_train)\n",
    "y1_test_hat = model_LR.predict(x_test)\n",
    "# print(\"Accuracy with lemmatization for Logistic Regression is:\",round(accuracy_score(y_test,y1_test_hat) * 100,2))"
   ]
  },
  {
   "cell_type": "code",
   "execution_count": 61,
   "metadata": {},
   "outputs": [
    {
     "name": "stdout",
     "output_type": "stream",
     "text": [
      "              precision    recall  f1-score   support\n",
      "\n",
      "           0       0.75      1.00      0.86      3684\n",
      "           1       0.73      0.01      0.02      1251\n",
      "\n",
      "    accuracy                           0.75      4935\n",
      "   macro avg       0.74      0.50      0.44      4935\n",
      "weighted avg       0.74      0.75      0.64      4935\n",
      "\n"
     ]
    }
   ],
   "source": [
    "accuracy_list.append(round(metrics.accuracy_score(y_test,y1_test_hat) * 100,2))\n",
    "precision_list.append(metrics.precision_score(y_test, y1_test_hat, average= \"weighted\") )\n",
    "f1_list.append(metrics.f1_score(y_test, y1_test_hat, average= \"weighted\") )\n",
    "recall_list.append(metrics.recall_score(y_test, y1_test_hat, average= \"weighted\") )\n",
    "print(metrics.classification_report(y_test, y1_test_hat))        "
   ]
  },
  {
   "cell_type": "code",
   "execution_count": 62,
   "metadata": {},
   "outputs": [],
   "source": [
    "# Model 2: Random Forest\n",
    "from sklearn.ensemble import RandomForestClassifier\n",
    "model_RFC = RandomForestClassifier(n_estimators=200, random_state=0)\n",
    "model_RFC.fit(x_train,y_train)                                          \n",
    "y2_test_hat = model_RFC.predict(x_test)"
   ]
  },
  {
   "cell_type": "code",
   "execution_count": 63,
   "metadata": {},
   "outputs": [
    {
     "name": "stdout",
     "output_type": "stream",
     "text": [
      "              precision    recall  f1-score   support\n",
      "\n",
      "           0       0.76      1.00      0.86      3684\n",
      "           1       0.87      0.06      0.11      1251\n",
      "\n",
      "    accuracy                           0.76      4935\n",
      "   macro avg       0.82      0.53      0.49      4935\n",
      "weighted avg       0.79      0.76      0.67      4935\n",
      "\n"
     ]
    }
   ],
   "source": [
    "accuracy_list.append(round(metrics.accuracy_score(y_test,y2_test_hat) * 100,2))\n",
    "precision_list.append(metrics.precision_score(y_test, y2_test_hat, average= \"weighted\") )\n",
    "f1_list.append(metrics.f1_score(y_test, y2_test_hat, average= \"weighted\") )\n",
    "recall_list.append(metrics.recall_score(y_test, y2_test_hat, average= \"weighted\") )\n",
    "print(metrics.classification_report(y_test, y2_test_hat))         "
   ]
  },
  {
   "cell_type": "code",
   "execution_count": 64,
   "metadata": {},
   "outputs": [],
   "source": [
    "# Model 3:  Multinomial Naive Bayes\n",
    "from sklearn.naive_bayes import MultinomialNB\n",
    "model_MNB = MultinomialNB()\n",
    "model_MNB.fit(x_train, y_train)\n",
    "y3_test_hat = model_MNB.predict(x_test)"
   ]
  },
  {
   "cell_type": "code",
   "execution_count": 65,
   "metadata": {},
   "outputs": [
    {
     "name": "stdout",
     "output_type": "stream",
     "text": [
      "              precision    recall  f1-score   support\n",
      "\n",
      "           0       0.75      1.00      0.85      3684\n",
      "           1       0.00      0.00      0.00      1251\n",
      "\n",
      "    accuracy                           0.75      4935\n",
      "   macro avg       0.37      0.50      0.43      4935\n",
      "weighted avg       0.56      0.75      0.64      4935\n",
      "\n"
     ]
    },
    {
     "name": "stderr",
     "output_type": "stream",
     "text": [
      "/opt/anaconda3/lib/python3.8/site-packages/sklearn/metrics/_classification.py:1221: UndefinedMetricWarning: Precision is ill-defined and being set to 0.0 in labels with no predicted samples. Use `zero_division` parameter to control this behavior.\n",
      "  _warn_prf(average, modifier, msg_start, len(result))\n",
      "/opt/anaconda3/lib/python3.8/site-packages/sklearn/metrics/_classification.py:1221: UndefinedMetricWarning: Precision and F-score are ill-defined and being set to 0.0 in labels with no predicted samples. Use `zero_division` parameter to control this behavior.\n",
      "  _warn_prf(average, modifier, msg_start, len(result))\n"
     ]
    }
   ],
   "source": [
    "accuracy_list.append(round(metrics.accuracy_score(y_test,y3_test_hat) * 100,2))\n",
    "precision_list.append(metrics.precision_score(y_test, y3_test_hat, average= \"weighted\") )\n",
    "f1_list.append(metrics.f1_score(y_test, y3_test_hat, average= \"weighted\") )\n",
    "recall_list.append(metrics.recall_score(y_test, y3_test_hat, average= \"weighted\") )\n",
    "print(metrics.classification_report(y_test, y3_test_hat))         "
   ]
  },
  {
   "cell_type": "code",
   "execution_count": 66,
   "metadata": {},
   "outputs": [],
   "source": [
    "# Model 4: Stochastic Gradient Descent \n",
    "from sklearn.linear_model import SGDClassifier\n",
    "model_SGD = SGDClassifier()\n",
    "model_SGD.fit(x_train, y_train)\n",
    "y4_test_hat = model_SGD.predict(x_test)"
   ]
  },
  {
   "cell_type": "code",
   "execution_count": 67,
   "metadata": {},
   "outputs": [
    {
     "name": "stdout",
     "output_type": "stream",
     "text": [
      "              precision    recall  f1-score   support\n",
      "\n",
      "           0       0.76      1.00      0.86      3684\n",
      "           1       0.88      0.09      0.16      1251\n",
      "\n",
      "    accuracy                           0.77      4935\n",
      "   macro avg       0.82      0.54      0.51      4935\n",
      "weighted avg       0.79      0.77      0.69      4935\n",
      "\n"
     ]
    }
   ],
   "source": [
    "accuracy_list.append(round(metrics.accuracy_score(y_test,y4_test_hat) * 100,2))\n",
    "precision_list.append(metrics.precision_score(y_test, y4_test_hat, average= \"weighted\") )\n",
    "f1_list.append(metrics.f1_score(y_test, y4_test_hat, average= \"weighted\") )\n",
    "recall_list.append(metrics.recall_score(y_test, y4_test_hat, average= \"weighted\") )\n",
    "print(metrics.classification_report(y_test, y4_test_hat))         "
   ]
  },
  {
   "cell_type": "code",
   "execution_count": 68,
   "metadata": {},
   "outputs": [],
   "source": [
    "# Model 5: Support Vector Machine\n",
    "from sklearn.svm import SVC\n",
    "SVM = SVC(C=1, kernel='linear', gamma=\"auto\")\n",
    "SVM.fit(x_train, y_train)\n",
    "y5_test_hat = SVM.predict(x_test)"
   ]
  },
  {
   "cell_type": "code",
   "execution_count": 69,
   "metadata": {},
   "outputs": [
    {
     "name": "stdout",
     "output_type": "stream",
     "text": [
      "              precision    recall  f1-score   support\n",
      "\n",
      "           0       0.77      0.99      0.87      3684\n",
      "           1       0.83      0.12      0.21      1251\n",
      "\n",
      "    accuracy                           0.77      4935\n",
      "   macro avg       0.80      0.56      0.54      4935\n",
      "weighted avg       0.79      0.77      0.70      4935\n",
      "\n"
     ]
    }
   ],
   "source": [
    "accuracy_list.append(round(metrics.accuracy_score(y_test,y5_test_hat) * 100,2))\n",
    "precision_list.append(metrics.precision_score(y_test, y5_test_hat, average= \"weighted\") )\n",
    "f1_list.append(metrics.f1_score(y_test, y5_test_hat, average= \"weighted\") )\n",
    "recall_list.append(metrics.recall_score(y_test, y5_test_hat, average= \"weighted\") )\n",
    "print(metrics.classification_report(y_test, y5_test_hat))         "
   ]
  },
  {
   "cell_type": "code",
   "execution_count": 70,
   "metadata": {},
   "outputs": [
    {
     "name": "stdout",
     "output_type": "stream",
     "text": [
      " Accuracy Score for different models : \n",
      "\tLogistic Regression: 74.79\n",
      "\tRandom Forest: 75.97\n",
      "\tMultinomialNB: 74.65\n",
      "\tStochastic Gradient Descent: 76.56\n",
      "\tSVM: 77.14\n"
     ]
    }
   ],
   "source": [
    "print(\" Accuracy Score for different models : \")\n",
    "print(\"\\tLogistic Regression:\",accuracy_list[0])\n",
    "print(\"\\tRandom Forest:\",accuracy_list[1])\n",
    "print(\"\\tMultinomialNB:\",accuracy_list[2])\n",
    "print(\"\\tStochastic Gradient Descent:\",accuracy_list[3])\n",
    "print(\"\\tSVM:\",accuracy_list[4])"
   ]
  },
  {
   "cell_type": "markdown",
   "metadata": {},
   "source": [
    "## Results:\n",
    "Using the above Lemmentatization method for Text Analysis, the best model is SVM, with accuracy score of 77.14\n",
    "#### Presenting bar graphs to properly visualize the accuracy, F-1, Precision, and Recall score for above used models."
   ]
  },
  {
   "cell_type": "code",
   "execution_count": 71,
   "metadata": {},
   "outputs": [
    {
     "data": {
      "image/png": "[encoded data removed]",
      "text/plain": [
       "<Figure size 2880x1080 with 4 Axes>"
      ]
     },
     "metadata": {
      "needs_background": "light"
     },
     "output_type": "display_data"
    }
   ],
   "source": [
    "import matplotlib.pyplot as plt\n",
    "import seaborn as sns \n",
    "Models=['Logistic Regression','Random Forest','MultinomialNB','Stochastic Gradient Descent ','SVM']\n",
    "\n",
    "# we plot the various scores from previous cell in a bar chart for comparison\n",
    "f, axes = plt.subplots(2, 2,figsize=(40,15))\n",
    "sns.barplot(x=Models,y=accuracy_list, ax=axes[0][0],palette='summer_r').set_title(\"Accuracy\")\n",
    "sns.barplot(x=Models,y=precision_list, ax=axes[0][1],palette='inferno_r').set_title(\"Precision\")\n",
    "sns.barplot(x=Models,y=f1_list, ax=axes[1][0],palette='spring_r').set_title(\"F1\")\n",
    "sns.barplot(x=Models,y=recall_list, ax=axes[1][1],palette='winter_r').set_title(\"Recall\")\n",
    "\n",
    "plt.show()"
   ]
  },
  {
   "cell_type": "markdown",
   "metadata": {},
   "source": [
    "### Method 04, LDA"
   ]
  },
  {
   "cell_type": "code",
   "execution_count": 72,
   "metadata": {},
   "outputs": [],
   "source": [
    "# Let's create the Document Term Frequency Matrix\n",
    "vect = CountVectorizer(max_features=10000, max_df=.60, \n",
    "                       stop_words=\"english\")\n",
    "x = vect.fit_transform(text.apply(lambda x: np.str_(x)))"
   ]
  },
  {
   "cell_type": "code",
   "execution_count": 73,
   "metadata": {},
   "outputs": [],
   "source": [
    "# Method 4\n",
    "from sklearn.decomposition import LatentDirichletAllocation\n",
    "lda = LatentDirichletAllocation(n_components=25, learning_method=\"batch\",\n",
    "                                max_iter=25, random_state=0) \n",
    "x = lda.fit_transform(x)"
   ]
  },
  {
   "cell_type": "code",
   "execution_count": 74,
   "metadata": {},
   "outputs": [],
   "source": [
    "# Creating empty lists\n",
    "accuracy_list = []\n",
    "f1_list = []\n",
    "precision_list = []\n",
    "recall_list = []"
   ]
  },
  {
   "cell_type": "code",
   "execution_count": 75,
   "metadata": {},
   "outputs": [],
   "source": [
    "# Model 1: Logistic Regression\n",
    "from sklearn.linear_model import LogisticRegression\n",
    "from sklearn.model_selection import train_test_split\n",
    "y=y.astype('int')\n",
    "x_train, x_test, y_train, y_test = train_test_split(x, y, test_size=0.3, random_state=0)\n",
    "model = LogisticRegression(max_iter=300)\n",
    "model.fit(x_train, y_train)\n",
    "y1_test_hat = model.predict(x_test)"
   ]
  },
  {
   "cell_type": "code",
   "execution_count": 76,
   "metadata": {},
   "outputs": [
    {
     "name": "stdout",
     "output_type": "stream",
     "text": [
      "              precision    recall  f1-score   support\n",
      "\n",
      "           0       0.75      0.98      0.85      3684\n",
      "           1       0.43      0.04      0.08      1251\n",
      "\n",
      "    accuracy                           0.74      4935\n",
      "   macro avg       0.59      0.51      0.46      4935\n",
      "weighted avg       0.67      0.74      0.65      4935\n",
      "\n"
     ]
    }
   ],
   "source": [
    "accuracy_list.append(round(metrics.accuracy_score(y_test,y1_test_hat) * 100,2))\n",
    "precision_list.append(metrics.precision_score(y_test, y1_test_hat, average= \"weighted\") )\n",
    "f1_list.append(metrics.f1_score(y_test, y1_test_hat, average= \"weighted\") )\n",
    "recall_list.append(metrics.recall_score(y_test, y1_test_hat, average= \"weighted\") )\n",
    "print(metrics.classification_report(y_test, y1_test_hat))         #presenting classification report"
   ]
  },
  {
   "cell_type": "code",
   "execution_count": 77,
   "metadata": {},
   "outputs": [],
   "source": [
    "# Model 2: Random Forest\n",
    "from sklearn.ensemble import RandomForestClassifier\n",
    "model_RFC = RandomForestClassifier(n_estimators=200, random_state=0)\n",
    "model_RFC.fit(x_train,y_train)                                         \n",
    "y2_test_hat = model_RFC.predict(x_test)"
   ]
  },
  {
   "cell_type": "code",
   "execution_count": 78,
   "metadata": {},
   "outputs": [
    {
     "name": "stdout",
     "output_type": "stream",
     "text": [
      "              precision    recall  f1-score   support\n",
      "\n",
      "           0       0.76      0.94      0.84      3684\n",
      "           1       0.37      0.11      0.16      1251\n",
      "\n",
      "    accuracy                           0.73      4935\n",
      "   macro avg       0.56      0.52      0.50      4935\n",
      "weighted avg       0.66      0.73      0.67      4935\n",
      "\n"
     ]
    }
   ],
   "source": [
    "accuracy_list.append(round(metrics.accuracy_score(y_test,y2_test_hat) * 100,2))\n",
    "precision_list.append(metrics.precision_score(y_test, y2_test_hat, average= \"weighted\") )\n",
    "f1_list.append(metrics.f1_score(y_test, y2_test_hat, average= \"weighted\") )\n",
    "recall_list.append(metrics.recall_score(y_test, y2_test_hat, average= \"weighted\") )\n",
    "print(metrics.classification_report(y_test, y2_test_hat))         "
   ]
  },
  {
   "cell_type": "code",
   "execution_count": 79,
   "metadata": {},
   "outputs": [],
   "source": [
    "# Model 3: Multinomial Naive Bayes\n",
    "from sklearn.naive_bayes import MultinomialNB\n",
    "model = MultinomialNB()\n",
    "model.fit(x_train, y_train)\n",
    "y3_test_hat = model.predict(x_test)"
   ]
  },
  {
   "cell_type": "code",
   "execution_count": 80,
   "metadata": {},
   "outputs": [
    {
     "name": "stdout",
     "output_type": "stream",
     "text": [
      "              precision    recall  f1-score   support\n",
      "\n",
      "           0       0.75      1.00      0.85      3684\n",
      "           1       0.00      0.00      0.00      1251\n",
      "\n",
      "    accuracy                           0.75      4935\n",
      "   macro avg       0.37      0.50      0.43      4935\n",
      "weighted avg       0.56      0.75      0.64      4935\n",
      "\n"
     ]
    },
    {
     "name": "stderr",
     "output_type": "stream",
     "text": [
      "/opt/anaconda3/lib/python3.8/site-packages/sklearn/metrics/_classification.py:1221: UndefinedMetricWarning: Precision is ill-defined and being set to 0.0 in labels with no predicted samples. Use `zero_division` parameter to control this behavior.\n",
      "  _warn_prf(average, modifier, msg_start, len(result))\n",
      "/opt/anaconda3/lib/python3.8/site-packages/sklearn/metrics/_classification.py:1221: UndefinedMetricWarning: Precision and F-score are ill-defined and being set to 0.0 in labels with no predicted samples. Use `zero_division` parameter to control this behavior.\n",
      "  _warn_prf(average, modifier, msg_start, len(result))\n"
     ]
    }
   ],
   "source": [
    "accuracy_list.append(round(metrics.accuracy_score(y_test,y3_test_hat) * 100,2))\n",
    "precision_list.append(metrics.precision_score(y_test, y3_test_hat, average= \"weighted\") )\n",
    "f1_list.append(metrics.f1_score(y_test, y3_test_hat, average= \"weighted\") )\n",
    "recall_list.append(metrics.recall_score(y_test, y3_test_hat, average= \"weighted\") )\n",
    "print(metrics.classification_report(y_test, y3_test_hat))         "
   ]
  },
  {
   "cell_type": "code",
   "execution_count": 81,
   "metadata": {},
   "outputs": [],
   "source": [
    "# Model 4: Stochastic Gradient Descent\n",
    "from sklearn.linear_model import SGDClassifier\n",
    "model = SGDClassifier()\n",
    "model.fit(x_train, y_train)\n",
    "y4_test_hat = model.predict(x_test)"
   ]
  },
  {
   "cell_type": "code",
   "execution_count": 82,
   "metadata": {},
   "outputs": [
    {
     "name": "stdout",
     "output_type": "stream",
     "text": [
      "              precision    recall  f1-score   support\n",
      "\n",
      "           0       0.75      1.00      0.85      3684\n",
      "           1       0.00      0.00      0.00      1251\n",
      "\n",
      "    accuracy                           0.75      4935\n",
      "   macro avg       0.37      0.50      0.43      4935\n",
      "weighted avg       0.56      0.75      0.64      4935\n",
      "\n"
     ]
    },
    {
     "name": "stderr",
     "output_type": "stream",
     "text": [
      "/opt/anaconda3/lib/python3.8/site-packages/sklearn/metrics/_classification.py:1221: UndefinedMetricWarning: Precision is ill-defined and being set to 0.0 in labels with no predicted samples. Use `zero_division` parameter to control this behavior.\n",
      "  _warn_prf(average, modifier, msg_start, len(result))\n",
      "/opt/anaconda3/lib/python3.8/site-packages/sklearn/metrics/_classification.py:1221: UndefinedMetricWarning: Precision and F-score are ill-defined and being set to 0.0 in labels with no predicted samples. Use `zero_division` parameter to control this behavior.\n",
      "  _warn_prf(average, modifier, msg_start, len(result))\n"
     ]
    }
   ],
   "source": [
    "accuracy_list.append(round(metrics.accuracy_score(y_test,y4_test_hat) * 100,2))\n",
    "precision_list.append(metrics.precision_score(y_test, y4_test_hat, average= \"weighted\") )\n",
    "f1_list.append(metrics.f1_score(y_test, y4_test_hat, average= \"weighted\") )\n",
    "recall_list.append(metrics.recall_score(y_test, y4_test_hat, average= \"weighted\") )\n",
    "print(metrics.classification_report(y_test, y4_test_hat))         "
   ]
  },
  {
   "cell_type": "code",
   "execution_count": 83,
   "metadata": {},
   "outputs": [],
   "source": [
    "# Model 5: Support Vector Machine\n",
    "from sklearn.svm import SVC\n",
    "SVM = SVC(C=1, kernel='linear', gamma=\"auto\")\n",
    "SVM.fit(x_train, y_train)\n",
    "y5_test_hat = SVM.predict(x_test)"
   ]
  },
  {
   "cell_type": "code",
   "execution_count": 84,
   "metadata": {},
   "outputs": [
    {
     "name": "stdout",
     "output_type": "stream",
     "text": [
      "              precision    recall  f1-score   support\n",
      "\n",
      "           0       0.75      1.00      0.85      3684\n",
      "           1       0.00      0.00      0.00      1251\n",
      "\n",
      "    accuracy                           0.75      4935\n",
      "   macro avg       0.37      0.50      0.43      4935\n",
      "weighted avg       0.56      0.75      0.64      4935\n",
      "\n"
     ]
    },
    {
     "name": "stderr",
     "output_type": "stream",
     "text": [
      "/opt/anaconda3/lib/python3.8/site-packages/sklearn/metrics/_classification.py:1221: UndefinedMetricWarning: Precision is ill-defined and being set to 0.0 in labels with no predicted samples. Use `zero_division` parameter to control this behavior.\n",
      "  _warn_prf(average, modifier, msg_start, len(result))\n",
      "/opt/anaconda3/lib/python3.8/site-packages/sklearn/metrics/_classification.py:1221: UndefinedMetricWarning: Precision and F-score are ill-defined and being set to 0.0 in labels with no predicted samples. Use `zero_division` parameter to control this behavior.\n",
      "  _warn_prf(average, modifier, msg_start, len(result))\n"
     ]
    }
   ],
   "source": [
    "accuracy_list.append(round(metrics.accuracy_score(y_test,y5_test_hat) * 100,2))\n",
    "precision_list.append(metrics.precision_score(y_test, y5_test_hat, average= \"weighted\") )\n",
    "f1_list.append(metrics.f1_score(y_test, y5_test_hat, average= \"weighted\") )\n",
    "recall_list.append(metrics.recall_score(y_test, y5_test_hat, average= \"weighted\") )\n",
    "print(metrics.classification_report(y_test, y5_test_hat))         "
   ]
  },
  {
   "cell_type": "code",
   "execution_count": 85,
   "metadata": {},
   "outputs": [
    {
     "name": "stdout",
     "output_type": "stream",
     "text": [
      " Accuracy Score for different models : \n",
      "\tLogistic Regression: 74.29\n",
      "\tRandom Forest: 72.71\n",
      "\tMultinomialNB: 74.65\n",
      "\tStochastic Gradient Descent: 74.65\n",
      "\tSVM: 74.65\n"
     ]
    }
   ],
   "source": [
    "print(\" Accuracy Score for different models : \")\n",
    "print(\"\\tLogistic Regression:\",accuracy_list[0])\n",
    "print(\"\\tRandom Forest:\",accuracy_list[1])\n",
    "print(\"\\tMultinomialNB:\",accuracy_list[2])\n",
    "print(\"\\tStochastic Gradient Descent:\",accuracy_list[3])\n",
    "print(\"\\tSVM:\",accuracy_list[4])"
   ]
  },
  {
   "cell_type": "markdown",
   "metadata": {},
   "source": [
    "## Results:\n",
    "Using the above LDA method for Text Analysis, the best model is Logistic Regression, as even though Stochastic Gradient Descent and SVM, has more accuracy score i.e 74.65 as compare to Logistic Regression but, F1, recall and precision shows us that the models are biased towards target as 0 i.e they only evaluate or give correct prediction for target 0.\n",
    "#### Presenting bar graphs to properly visualize the accuracy, F-1, Precision, and Recall score for above used models."
   ]
  },
  {
   "cell_type": "code",
   "execution_count": 86,
   "metadata": {},
   "outputs": [
    {
     "data": {
      "image/png": "[encoded data removed]",
      "text/plain": [
       "<Figure size 2880x1080 with 4 Axes>"
      ]
     },
     "metadata": {
      "needs_background": "light"
     },
     "output_type": "display_data"
    }
   ],
   "source": [
    "import matplotlib.pyplot as plt\n",
    "import seaborn as sns \n",
    "Models=['Logistic Regression','Random Forest','MultinomialNB','Stochastic Gradient Descent ','SVM']\n",
    "\n",
    "# we plot the various scores from previous cell in a bar chart for comparison\n",
    "f, axes = plt.subplots(2, 2,figsize=(40,15))\n",
    "sns.barplot(x=Models,y=accuracy_list, ax=axes[0][0],palette='summer_r').set_title(\"Accuracy\")\n",
    "sns.barplot(x=Models,y=precision_list, ax=axes[0][1],palette='inferno_r').set_title(\"Precision\")\n",
    "sns.barplot(x=Models,y=f1_list, ax=axes[1][0],palette='spring_r').set_title(\"F1\")\n",
    "sns.barplot(x=Models,y=recall_list, ax=axes[1][1],palette='winter_r').set_title(\"Recall\")\n",
    "\n",
    "plt.show()"
   ]
  },
  {
   "cell_type": "code",
   "execution_count": 87,
   "metadata": {},
   "outputs": [
    {
     "data": {
      "image/png": "[encoded data removed]",
      "text/plain": [
       "<Figure size 576x576 with 1 Axes>"
      ]
     },
     "metadata": {
      "needs_background": "light"
     },
     "output_type": "display_data"
    },
    {
     "data": {
      "text/plain": [
       "<matplotlib.axes._subplots.AxesSubplot at 0x7f9fa735e400>"
      ]
     },
     "execution_count": 87,
     "metadata": {},
     "output_type": "execute_result"
    }
   ],
   "source": [
    "#just for visualization purpose:\n",
    "\n",
    "from yellowbrick.text.freqdist import FreqDistVisualizer \n",
    "from sklearn.feature_extraction.text import CountVectorizer\n",
    "import matplotlib as mpl\n",
    "import matplotlib.pyplot as plt\n",
    "%matplotlib inline\n",
    "\n",
    "# Find the Document Term Frequency Matrix \n",
    "vect = CountVectorizer(stop_words='english')\n",
    "x = vect.fit_transform(train.Story.apply(lambda x: np.str_(x)))\n",
    "\n",
    "# Get all features (tokens)\n",
    "features = vect.get_feature_names()\n",
    "\n",
    "# Use yellowbrick package for visualization of top 30 tokens\n",
    "fig, ax = plt.subplots(figsize=(8, 8))\n",
    "visualizer = FreqDistVisualizer(features=features, n=30)\n",
    "visualizer.fit(x)\n",
    "visualizer.poof()"
   ]
  },
  {
   "cell_type": "markdown",
   "metadata": {},
   "source": [
    "### <b>Step 5:</b> Choose one of your best models (only one). Then use the full data available in `main dataset` to train that model.\n",
    "After comparing different methods and models, for our project we got <strong>Logistic Regression</strong> as the best model with <strong>accuracy 78.3 </strong> when used along with CounterVEctorization. Considering the Recall and F-1 value for the given model, which is best for the above specified model: are 0.95, 0.87. Thus, we are using Logistic Regression for training the main_dataset and using for Prediction purposes to calculate accuracy of our final prediction on evaluation_dataset.\n"
   ]
  },
  {
   "cell_type": "code",
   "execution_count": 88,
   "metadata": {},
   "outputs": [
    {
     "name": "stdout",
     "output_type": "stream",
     "text": [
      "type of x_train: <class 'pandas.core.series.Series'>\n",
      "length of tx_train: 23498\n",
      "x_train[0]:a girl who always tends to fall in love with the wrong guy meets one who believes the world is coming to an end next tuesday\n",
      "y_train[0]:1\n"
     ]
    }
   ],
   "source": [
    "# Using main_dataset for training purpose:\n",
    "x_train, y_train = main_dataset.Story, main_dataset.Com_gen\n",
    "print(\"type of x_train: {}\".format(type(x_train)))\n",
    "print(\"length of tx_train: {}\".format(len(x_train)))\n",
    "print(\"x_train[0]:{}\".format(x_train[0]))\n",
    "print(\"y_train[0]:{}\".format(y_train[0]))"
   ]
  },
  {
   "cell_type": "code",
   "execution_count": 89,
   "metadata": {},
   "outputs": [],
   "source": [
    "from sklearn.feature_extraction.text import CountVectorizer \n",
    "vect = CountVectorizer(ngram_range=(1,3),stop_words=\"english\")\n",
    "x_train = vect.fit_transform(x_train.apply(lambda x1: np.str_(x1)))"
   ]
  },
  {
   "cell_type": "code",
   "execution_count": 90,
   "metadata": {},
   "outputs": [
    {
     "data": {
      "text/plain": [
       "(23498, 1017740)"
      ]
     },
     "execution_count": 90,
     "metadata": {},
     "output_type": "execute_result"
    }
   ],
   "source": [
    "x_train.shape"
   ]
  },
  {
   "cell_type": "markdown",
   "metadata": {},
   "source": [
    "#### We are using Truncated SVD to reduce the number of features to 100."
   ]
  },
  {
   "cell_type": "code",
   "execution_count": 91,
   "metadata": {},
   "outputs": [
    {
     "data": {
      "text/plain": [
       "(23498, 100)"
      ]
     },
     "execution_count": 91,
     "metadata": {},
     "output_type": "execute_result"
    }
   ],
   "source": [
    "# Reducing the number of columns \n",
    "from sklearn.decomposition import TruncatedSVD\n",
    "tsvd = TruncatedSVD(n_components = 100)    #using n_components as 100.\n",
    "X_train = tsvd.fit_transform(x_train)\n",
    "X_train.shape"
   ]
  },
  {
   "cell_type": "code",
   "execution_count": 92,
   "metadata": {},
   "outputs": [
    {
     "data": {
      "text/plain": [
       "LogisticRegression(max_iter=300)"
      ]
     },
     "execution_count": 92,
     "metadata": {},
     "output_type": "execute_result"
    }
   ],
   "source": [
    "# Fitting the model. Using main_dataset to train the model.\n",
    "y_train = y_train.astype('int')\n",
    "final_model = LogisticRegression(max_iter=300)\n",
    "final_model.fit(X_train, y_train)"
   ]
  },
  {
   "cell_type": "markdown",
   "metadata": {},
   "source": [
    "### <b>Step 6:</b> Prepare data in `movie_story_evaluation_file.csv` for prediction. You need to perform the exact same steps that you have done in <b>Step 2</b> to prepare this new dataset. Name the new dataset as `evaluation_dataset`. "
   ]
  },
  {
   "cell_type": "code",
   "execution_count": 93,
   "metadata": {},
   "outputs": [
    {
     "data": {
      "text/html": [
       "<div>\n",
       "<style scoped>\n",
       "    .dataframe tbody tr th:only-of-type {\n",
       "        vertical-align: middle;\n",
       "    }\n",
       "\n",
       "    .dataframe tbody tr th {\n",
       "        vertical-align: top;\n",
       "    }\n",
       "\n",
       "    .dataframe thead th {\n",
       "        text-align: right;\n",
       "    }\n",
       "</style>\n",
       "<table border=\"1\" class=\"dataframe\">\n",
       "  <thead>\n",
       "    <tr style=\"text-align: right;\">\n",
       "      <th></th>\n",
       "      <th>movieId</th>\n",
       "      <th>story</th>\n",
       "    </tr>\n",
       "  </thead>\n",
       "  <tbody>\n",
       "    <tr>\n",
       "      <th>0</th>\n",
       "      <td>122349</td>\n",
       "      <td>Growing up in the Mission district of San Fran...</td>\n",
       "    </tr>\n",
       "    <tr>\n",
       "      <th>1</th>\n",
       "      <td>122351</td>\n",
       "      <td>A soldier returns home from the Iraq war only ...</td>\n",
       "    </tr>\n",
       "    <tr>\n",
       "      <th>2</th>\n",
       "      <td>122361</td>\n",
       "      <td>Marco the Monkey works as a beach officer. But...</td>\n",
       "    </tr>\n",
       "    <tr>\n",
       "      <th>3</th>\n",
       "      <td>187901</td>\n",
       "      <td>When an honest cop, Vijay Kumar\\'s family is r...</td>\n",
       "    </tr>\n",
       "    <tr>\n",
       "      <th>4</th>\n",
       "      <td>187903</td>\n",
       "      <td>Kathiresan aka Kaththi, a criminal, escapes fr...</td>\n",
       "    </tr>\n",
       "  </tbody>\n",
       "</table>\n",
       "</div>"
      ],
      "text/plain": [
       "   movieId                                              story\n",
       "0   122349  Growing up in the Mission district of San Fran...\n",
       "1   122351  A soldier returns home from the Iraq war only ...\n",
       "2   122361  Marco the Monkey works as a beach officer. But...\n",
       "3   187901  When an honest cop, Vijay Kumar\\'s family is r...\n",
       "4   187903  Kathiresan aka Kaththi, a criminal, escapes fr..."
      ]
     },
     "execution_count": 93,
     "metadata": {},
     "output_type": "execute_result"
    }
   ],
   "source": [
    "#adding a new column to the movie story evaluation dataset\n",
    "evaluation_dataset = pd.read_csv(\"movie_story_evaluation_file.csv\")\n",
    "evaluation_dataset.rename(columns = {'movie_id':'movieId'}, inplace = True)   #renaming column movie_id\n",
    "evaluation_dataset.head()"
   ]
  },
  {
   "cell_type": "code",
   "execution_count": 94,
   "metadata": {},
   "outputs": [
    {
     "data": {
      "text/html": [
       "<div>\n",
       "<style scoped>\n",
       "    .dataframe tbody tr th:only-of-type {\n",
       "        vertical-align: middle;\n",
       "    }\n",
       "\n",
       "    .dataframe tbody tr th {\n",
       "        vertical-align: top;\n",
       "    }\n",
       "\n",
       "    .dataframe thead th {\n",
       "        text-align: right;\n",
       "    }\n",
       "</style>\n",
       "<table border=\"1\" class=\"dataframe\">\n",
       "  <thead>\n",
       "    <tr style=\"text-align: right;\">\n",
       "      <th></th>\n",
       "      <th>movieId</th>\n",
       "      <th>story</th>\n",
       "      <th>Story</th>\n",
       "    </tr>\n",
       "  </thead>\n",
       "  <tbody>\n",
       "    <tr>\n",
       "      <th>0</th>\n",
       "      <td>122349</td>\n",
       "      <td>Growing up in the Mission district of San Fran...</td>\n",
       "      <td>growing up in the mission district of san fran...</td>\n",
       "    </tr>\n",
       "    <tr>\n",
       "      <th>1</th>\n",
       "      <td>122351</td>\n",
       "      <td>A soldier returns home from the Iraq war only ...</td>\n",
       "      <td>a soldier returns home from the iraq war only ...</td>\n",
       "    </tr>\n",
       "    <tr>\n",
       "      <th>2</th>\n",
       "      <td>122361</td>\n",
       "      <td>Marco the Monkey works as a beach officer. But...</td>\n",
       "      <td>marco the monkey works as a beach officer but ...</td>\n",
       "    </tr>\n",
       "    <tr>\n",
       "      <th>3</th>\n",
       "      <td>187901</td>\n",
       "      <td>When an honest cop, Vijay Kumar\\'s family is r...</td>\n",
       "      <td>when an honest cop vijay kumar s family is rut...</td>\n",
       "    </tr>\n",
       "    <tr>\n",
       "      <th>4</th>\n",
       "      <td>187903</td>\n",
       "      <td>Kathiresan aka Kaththi, a criminal, escapes fr...</td>\n",
       "      <td>kathiresan aka kaththi a criminal escapes from...</td>\n",
       "    </tr>\n",
       "  </tbody>\n",
       "</table>\n",
       "</div>"
      ],
      "text/plain": [
       "   movieId                                              story  \\\n",
       "0   122349  Growing up in the Mission district of San Fran...   \n",
       "1   122351  A soldier returns home from the Iraq war only ...   \n",
       "2   122361  Marco the Monkey works as a beach officer. But...   \n",
       "3   187901  When an honest cop, Vijay Kumar\\'s family is r...   \n",
       "4   187903  Kathiresan aka Kaththi, a criminal, escapes fr...   \n",
       "\n",
       "                                               Story  \n",
       "0  growing up in the mission district of san fran...  \n",
       "1  a soldier returns home from the iraq war only ...  \n",
       "2  marco the monkey works as a beach officer but ...  \n",
       "3  when an honest cop vijay kumar s family is rut...  \n",
       "4  kathiresan aka kaththi a criminal escapes from...  "
      ]
     },
     "execution_count": 94,
     "metadata": {},
     "output_type": "execute_result"
    }
   ],
   "source": [
    "#creating new column Story(cleaned text)\n",
    "evaluation_dataset['Story'] = evaluation_dataset['story'].apply(lambda x: clean_text(x))\n",
    "evaluation_dataset.head()"
   ]
  },
  {
   "cell_type": "code",
   "execution_count": 95,
   "metadata": {},
   "outputs": [],
   "source": [
    "# change datatype of 'movie_id' movieId\t\n",
    "movie_data['movieId'] = movie_data['movieId'].astype(str)\n",
    "evaluation_dataset['movieId'] = evaluation_dataset['movieId'].astype(str)\n",
    "\n",
    "# merge meta with movies\n",
    "evaluation_dataset = pd.merge(evaluation_dataset, movie_data[['movieId', 'title', 'genres']],on = ['movieId'], how='right')"
   ]
  },
  {
   "cell_type": "code",
   "execution_count": 96,
   "metadata": {},
   "outputs": [
    {
     "name": "stdout",
     "output_type": "stream",
     "text": [
      "<class 'pandas.core.frame.DataFrame'>\n",
      "Int64Index: 23498 entries, 0 to 23497\n",
      "Data columns (total 5 columns):\n",
      " #   Column   Non-Null Count  Dtype \n",
      "---  ------   --------------  ----- \n",
      " 0   movieId  23498 non-null  object\n",
      " 1   story    3498 non-null   object\n",
      " 2   Story    3498 non-null   object\n",
      " 3   title    23498 non-null  object\n",
      " 4   genres   23498 non-null  object\n",
      "dtypes: object(5)\n",
      "memory usage: 1.1+ MB\n"
     ]
    }
   ],
   "source": [
    "evaluation_dataset.info()"
   ]
  },
  {
   "cell_type": "code",
   "execution_count": 97,
   "metadata": {},
   "outputs": [
    {
     "data": {
      "text/html": [
       "<div>\n",
       "<style scoped>\n",
       "    .dataframe tbody tr th:only-of-type {\n",
       "        vertical-align: middle;\n",
       "    }\n",
       "\n",
       "    .dataframe tbody tr th {\n",
       "        vertical-align: top;\n",
       "    }\n",
       "\n",
       "    .dataframe thead th {\n",
       "        text-align: right;\n",
       "    }\n",
       "</style>\n",
       "<table border=\"1\" class=\"dataframe\">\n",
       "  <thead>\n",
       "    <tr style=\"text-align: right;\">\n",
       "      <th></th>\n",
       "      <th>movieId</th>\n",
       "      <th>story</th>\n",
       "      <th>Story</th>\n",
       "      <th>title</th>\n",
       "      <th>genres</th>\n",
       "      <th>Com_gen</th>\n",
       "    </tr>\n",
       "  </thead>\n",
       "  <tbody>\n",
       "    <tr>\n",
       "      <th>0</th>\n",
       "      <td>122349</td>\n",
       "      <td>Growing up in the Mission district of San Fran...</td>\n",
       "      <td>growing up in the mission district of san fran...</td>\n",
       "      <td>La Mission (2009)</td>\n",
       "      <td>Drama</td>\n",
       "      <td>False</td>\n",
       "    </tr>\n",
       "    <tr>\n",
       "      <th>1</th>\n",
       "      <td>122351</td>\n",
       "      <td>A soldier returns home from the Iraq war only ...</td>\n",
       "      <td>a soldier returns home from the iraq war only ...</td>\n",
       "      <td>Stir of Echoes: The Homecoming (2007)</td>\n",
       "      <td>Horror|Thriller</td>\n",
       "      <td>False</td>\n",
       "    </tr>\n",
       "    <tr>\n",
       "      <th>2</th>\n",
       "      <td>122361</td>\n",
       "      <td>Marco the Monkey works as a beach officer. But...</td>\n",
       "      <td>marco the monkey works as a beach officer but ...</td>\n",
       "      <td>Primates of the Caribbean (2012)</td>\n",
       "      <td>Animation|Children|Comedy</td>\n",
       "      <td>True</td>\n",
       "    </tr>\n",
       "    <tr>\n",
       "      <th>3</th>\n",
       "      <td>187901</td>\n",
       "      <td>When an honest cop, Vijay Kumar\\'s family is r...</td>\n",
       "      <td>when an honest cop vijay kumar s family is rut...</td>\n",
       "      <td>Theri (2016)</td>\n",
       "      <td>Action|Romance</td>\n",
       "      <td>False</td>\n",
       "    </tr>\n",
       "    <tr>\n",
       "      <th>4</th>\n",
       "      <td>187903</td>\n",
       "      <td>Kathiresan aka Kaththi, a criminal, escapes fr...</td>\n",
       "      <td>kathiresan aka kaththi a criminal escapes from...</td>\n",
       "      <td>Kaththi (2014)</td>\n",
       "      <td>Action|Drama|Romance</td>\n",
       "      <td>False</td>\n",
       "    </tr>\n",
       "  </tbody>\n",
       "</table>\n",
       "</div>"
      ],
      "text/plain": [
       "  movieId                                              story  \\\n",
       "0  122349  Growing up in the Mission district of San Fran...   \n",
       "1  122351  A soldier returns home from the Iraq war only ...   \n",
       "2  122361  Marco the Monkey works as a beach officer. But...   \n",
       "3  187901  When an honest cop, Vijay Kumar\\'s family is r...   \n",
       "4  187903  Kathiresan aka Kaththi, a criminal, escapes fr...   \n",
       "\n",
       "                                               Story  \\\n",
       "0  growing up in the mission district of san fran...   \n",
       "1  a soldier returns home from the iraq war only ...   \n",
       "2  marco the monkey works as a beach officer but ...   \n",
       "3  when an honest cop vijay kumar s family is rut...   \n",
       "4  kathiresan aka kaththi a criminal escapes from...   \n",
       "\n",
       "                                   title                     genres  Com_gen  \n",
       "0                      La Mission (2009)                      Drama    False  \n",
       "1  Stir of Echoes: The Homecoming (2007)            Horror|Thriller    False  \n",
       "2       Primates of the Caribbean (2012)  Animation|Children|Comedy     True  \n",
       "3                           Theri (2016)             Action|Romance    False  \n",
       "4                         Kaththi (2014)       Action|Drama|Romance    False  "
      ]
     },
     "execution_count": 97,
     "metadata": {},
     "output_type": "execute_result"
    }
   ],
   "source": [
    "#creating column for comedy genre\n",
    "\n",
    "flag=evaluation_dataset['genres'].str.contains(\"Comedy\")\n",
    "evaluation_dataset['Com_gen']=flag\n",
    "evaluation_dataset.head()"
   ]
  },
  {
   "cell_type": "code",
   "execution_count": 98,
   "metadata": {},
   "outputs": [
    {
     "data": {
      "text/html": [
       "<div>\n",
       "<style scoped>\n",
       "    .dataframe tbody tr th:only-of-type {\n",
       "        vertical-align: middle;\n",
       "    }\n",
       "\n",
       "    .dataframe tbody tr th {\n",
       "        vertical-align: top;\n",
       "    }\n",
       "\n",
       "    .dataframe thead th {\n",
       "        text-align: right;\n",
       "    }\n",
       "</style>\n",
       "<table border=\"1\" class=\"dataframe\">\n",
       "  <thead>\n",
       "    <tr style=\"text-align: right;\">\n",
       "      <th></th>\n",
       "      <th>movieId</th>\n",
       "      <th>story</th>\n",
       "      <th>Story</th>\n",
       "      <th>title</th>\n",
       "      <th>genres</th>\n",
       "      <th>Com_gen</th>\n",
       "    </tr>\n",
       "  </thead>\n",
       "  <tbody>\n",
       "    <tr>\n",
       "      <th>0</th>\n",
       "      <td>122349</td>\n",
       "      <td>Growing up in the Mission district of San Fran...</td>\n",
       "      <td>growing up in the mission district of san fran...</td>\n",
       "      <td>La Mission (2009)</td>\n",
       "      <td>Drama</td>\n",
       "      <td>0</td>\n",
       "    </tr>\n",
       "    <tr>\n",
       "      <th>1</th>\n",
       "      <td>122351</td>\n",
       "      <td>A soldier returns home from the Iraq war only ...</td>\n",
       "      <td>a soldier returns home from the iraq war only ...</td>\n",
       "      <td>Stir of Echoes: The Homecoming (2007)</td>\n",
       "      <td>Horror|Thriller</td>\n",
       "      <td>0</td>\n",
       "    </tr>\n",
       "    <tr>\n",
       "      <th>2</th>\n",
       "      <td>122361</td>\n",
       "      <td>Marco the Monkey works as a beach officer. But...</td>\n",
       "      <td>marco the monkey works as a beach officer but ...</td>\n",
       "      <td>Primates of the Caribbean (2012)</td>\n",
       "      <td>Animation|Children|Comedy</td>\n",
       "      <td>1</td>\n",
       "    </tr>\n",
       "    <tr>\n",
       "      <th>3</th>\n",
       "      <td>187901</td>\n",
       "      <td>When an honest cop, Vijay Kumar\\'s family is r...</td>\n",
       "      <td>when an honest cop vijay kumar s family is rut...</td>\n",
       "      <td>Theri (2016)</td>\n",
       "      <td>Action|Romance</td>\n",
       "      <td>0</td>\n",
       "    </tr>\n",
       "    <tr>\n",
       "      <th>4</th>\n",
       "      <td>187903</td>\n",
       "      <td>Kathiresan aka Kaththi, a criminal, escapes fr...</td>\n",
       "      <td>kathiresan aka kaththi a criminal escapes from...</td>\n",
       "      <td>Kaththi (2014)</td>\n",
       "      <td>Action|Drama|Romance</td>\n",
       "      <td>0</td>\n",
       "    </tr>\n",
       "  </tbody>\n",
       "</table>\n",
       "</div>"
      ],
      "text/plain": [
       "  movieId                                              story  \\\n",
       "0  122349  Growing up in the Mission district of San Fran...   \n",
       "1  122351  A soldier returns home from the Iraq war only ...   \n",
       "2  122361  Marco the Monkey works as a beach officer. But...   \n",
       "3  187901  When an honest cop, Vijay Kumar\\'s family is r...   \n",
       "4  187903  Kathiresan aka Kaththi, a criminal, escapes fr...   \n",
       "\n",
       "                                               Story  \\\n",
       "0  growing up in the mission district of san fran...   \n",
       "1  a soldier returns home from the iraq war only ...   \n",
       "2  marco the monkey works as a beach officer but ...   \n",
       "3  when an honest cop vijay kumar s family is rut...   \n",
       "4  kathiresan aka kaththi a criminal escapes from...   \n",
       "\n",
       "                                   title                     genres Com_gen  \n",
       "0                      La Mission (2009)                      Drama       0  \n",
       "1  Stir of Echoes: The Homecoming (2007)            Horror|Thriller       0  \n",
       "2       Primates of the Caribbean (2012)  Animation|Children|Comedy       1  \n",
       "3                           Theri (2016)             Action|Romance       0  \n",
       "4                         Kaththi (2014)       Action|Drama|Romance       0  "
      ]
     },
     "execution_count": 98,
     "metadata": {},
     "output_type": "execute_result"
    }
   ],
   "source": [
    "#converting into categorical data\n",
    "evaluation_dataset.loc[evaluation_dataset['Com_gen']==True,'Com_gen']=1\n",
    "evaluation_dataset.loc[evaluation_dataset['Com_gen']==False,'Com_gen']=0\n",
    "evaluation_dataset.head()"
   ]
  },
  {
   "cell_type": "code",
   "execution_count": 99,
   "metadata": {},
   "outputs": [
    {
     "data": {
      "text/html": [
       "<div>\n",
       "<style scoped>\n",
       "    .dataframe tbody tr th:only-of-type {\n",
       "        vertical-align: middle;\n",
       "    }\n",
       "\n",
       "    .dataframe tbody tr th {\n",
       "        vertical-align: top;\n",
       "    }\n",
       "\n",
       "    .dataframe thead th {\n",
       "        text-align: right;\n",
       "    }\n",
       "</style>\n",
       "<table border=\"1\" class=\"dataframe\">\n",
       "  <thead>\n",
       "    <tr style=\"text-align: right;\">\n",
       "      <th></th>\n",
       "      <th>movieId</th>\n",
       "      <th>Story</th>\n",
       "      <th>Com_gen</th>\n",
       "    </tr>\n",
       "  </thead>\n",
       "  <tbody>\n",
       "    <tr>\n",
       "      <th>0</th>\n",
       "      <td>122349</td>\n",
       "      <td>growing up in the mission district of san fran...</td>\n",
       "      <td>0</td>\n",
       "    </tr>\n",
       "    <tr>\n",
       "      <th>1</th>\n",
       "      <td>122351</td>\n",
       "      <td>a soldier returns home from the iraq war only ...</td>\n",
       "      <td>0</td>\n",
       "    </tr>\n",
       "    <tr>\n",
       "      <th>2</th>\n",
       "      <td>122361</td>\n",
       "      <td>marco the monkey works as a beach officer but ...</td>\n",
       "      <td>1</td>\n",
       "    </tr>\n",
       "    <tr>\n",
       "      <th>3</th>\n",
       "      <td>187901</td>\n",
       "      <td>when an honest cop vijay kumar s family is rut...</td>\n",
       "      <td>0</td>\n",
       "    </tr>\n",
       "    <tr>\n",
       "      <th>4</th>\n",
       "      <td>187903</td>\n",
       "      <td>kathiresan aka kaththi a criminal escapes from...</td>\n",
       "      <td>0</td>\n",
       "    </tr>\n",
       "  </tbody>\n",
       "</table>\n",
       "</div>"
      ],
      "text/plain": [
       "  movieId                                              Story Com_gen\n",
       "0  122349  growing up in the mission district of san fran...       0\n",
       "1  122351  a soldier returns home from the iraq war only ...       0\n",
       "2  122361  marco the monkey works as a beach officer but ...       1\n",
       "3  187901  when an honest cop vijay kumar s family is rut...       0\n",
       "4  187903  kathiresan aka kaththi a criminal escapes from...       0"
      ]
     },
     "execution_count": 99,
     "metadata": {},
     "output_type": "execute_result"
    }
   ],
   "source": [
    "# Creating main dataset with 3 columns.\n",
    "evaluation_dataset=evaluation_dataset[['movieId','Story','Com_gen']].copy()\n",
    "evaluation_dataset.head()"
   ]
  },
  {
   "cell_type": "code",
   "execution_count": 100,
   "metadata": {},
   "outputs": [
    {
     "name": "stdout",
     "output_type": "stream",
     "text": [
      "<class 'pandas.core.frame.DataFrame'>\n",
      "Int64Index: 23498 entries, 0 to 23497\n",
      "Data columns (total 3 columns):\n",
      " #   Column   Non-Null Count  Dtype \n",
      "---  ------   --------------  ----- \n",
      " 0   movieId  23498 non-null  object\n",
      " 1   Story    3498 non-null   object\n",
      " 2   Com_gen  23498 non-null  object\n",
      "dtypes: object(3)\n",
      "memory usage: 734.3+ KB\n"
     ]
    }
   ],
   "source": [
    "evaluation_dataset.info()                #dataset contains more than 20,000 entries"
   ]
  },
  {
   "cell_type": "markdown",
   "metadata": {},
   "source": [
    "### <b>Step 7:</b> Use your selected model in Step 5 to predict whether or not movies in `evaluation_dataset` are Comedy movies. \n",
    "#### Our selected model is Logistic Regression( After removing Stop words) , using the same for prediction purposes."
   ]
  },
  {
   "cell_type": "code",
   "execution_count": 101,
   "metadata": {},
   "outputs": [
    {
     "name": "stdout",
     "output_type": "stream",
     "text": [
      "type of x_test: <class 'pandas.core.series.Series'>\n",
      "length of x_test: 23498\n",
      "x_test[0]: a soldier returns home from the iraq war only to be haunted by visions of the dead\n",
      "y_test[0]: 0\n"
     ]
    }
   ],
   "source": [
    "x_test, y_test = evaluation_dataset.Story, evaluation_dataset.Com_gen\n",
    "print(\"type of x_test: {}\".format(type(x_test)))\n",
    "print(\"length of x_test: {}\".format(len(x_test)))\n",
    "print(\"x_test[0]: {}\".format(x_test[1]))\n",
    "print(\"y_test[0]: {}\".format(y_test[0]))"
   ]
  },
  {
   "cell_type": "code",
   "execution_count": 102,
   "metadata": {},
   "outputs": [],
   "source": [
    "from sklearn.feature_extraction.text import CountVectorizer \n",
    "vect = CountVectorizer(ngram_range=(1,3),stop_words=\"english\")\n",
    "x_test = vect.fit_transform(x_test.apply(lambda x1: np.str_(x1)))"
   ]
  },
  {
   "cell_type": "code",
   "execution_count": 103,
   "metadata": {},
   "outputs": [
    {
     "data": {
      "text/plain": [
       "(23498, 192675)"
      ]
     },
     "execution_count": 103,
     "metadata": {},
     "output_type": "execute_result"
    }
   ],
   "source": [
    "x_test.shape"
   ]
  },
  {
   "cell_type": "code",
   "execution_count": 104,
   "metadata": {},
   "outputs": [
    {
     "data": {
      "text/plain": [
       "(23498, 100)"
      ]
     },
     "execution_count": 104,
     "metadata": {},
     "output_type": "execute_result"
    }
   ],
   "source": [
    "X_test = tsvd.fit_transform(x_test)\n",
    "X_test.shape"
   ]
  },
  {
   "cell_type": "code",
   "execution_count": 105,
   "metadata": {},
   "outputs": [],
   "source": [
    "y_test = y_test.astype('int')\n",
    "y1_test_hat = final_model.predict(X_test)"
   ]
  },
  {
   "cell_type": "markdown",
   "metadata": {},
   "source": [
    "### <b>Step 8:</b> Report the final accuracy, precision, recall and F1 score. "
   ]
  },
  {
   "cell_type": "code",
   "execution_count": 106,
   "metadata": {},
   "outputs": [
    {
     "name": "stdout",
     "output_type": "stream",
     "text": [
      "Accuracy:  72.0\n",
      "Precision:  0.6219712962733646\n",
      "Recall :  0.7200187249978721\n",
      "F1 score:  0.6383909041222523\n",
      "Classification Report: \n",
      "              precision    recall  f1-score   support\n",
      "\n",
      "           0       0.74      0.96      0.83     17357\n",
      "           1       0.29      0.05      0.08      6141\n",
      "\n",
      "    accuracy                           0.72     23498\n",
      "   macro avg       0.51      0.50      0.46     23498\n",
      "weighted avg       0.62      0.72      0.64     23498\n",
      "\n"
     ]
    }
   ],
   "source": [
    "print(\"Accuracy: \",round(accuracy_score(y_test,y1_test_hat) * 100,2))\n",
    "print(\"Precision: \" ,metrics.precision_score(y_test, y1_test_hat, average= \"weighted\"))\n",
    "print(\"Recall : \",metrics.recall_score(y_test, y1_test_hat, average= \"weighted\"))\n",
    "print(\"F1 score: \",metrics.f1_score(y_test, y1_test_hat, average= \"weighted\"))\n",
    "print(\"Classification Report: \")\n",
    "print(metrics.classification_report(y_test, y1_test_hat))         #presenting classification report"
   ]
  },
  {
   "cell_type": "markdown",
   "metadata": {},
   "source": [
    "## Results:\n",
    "Final Accuracy of the model with evaluation_dataset using Logistic Regression is 72. The recall and f-1 score is 0.96 and 0.83 respectively.<br>\n",
    "Presenting below the predictions and comparing them with original values for Com_Gen."
   ]
  },
  {
   "cell_type": "code",
   "execution_count": 107,
   "metadata": {},
   "outputs": [
    {
     "name": "stdout",
     "output_type": "stream",
     "text": [
      "Out of specified range above, number of values for which original and predicted values are same: 16919\n"
     ]
    }
   ],
   "source": [
    "#predicted value using above model for evaluation_dataset\n",
    "i=0\n",
    "count=0\n",
    "for i in range(23498):\n",
    "    if y1_test_hat[i]==evaluation_dataset.Com_gen[i]:\n",
    "        count=count+1\n",
    "print(\"Out of specified range above, number of values for which original and predicted values are same:\",count)\n",
    "i=i+2"
   ]
  },
  {
   "cell_type": "markdown",
   "metadata": {},
   "source": [
    "#### Comparison :\n",
    "We can see that for the entire avaluation_dataset with 23498 values, our model is able to predict 16919 values correctly.\n",
    "Our accuracy is justified for the above model as shown using above example, which is more than 71% of accuracy as calculated above.\n",
    "\n"
   ]
  },
  {
   "cell_type": "markdown",
   "metadata": {},
   "source": [
    "### Output"
   ]
  },
  {
   "cell_type": "markdown",
   "metadata": {},
   "source": [
    "<ul>\n",
    "    <li>Make sure to put descriptive comments on your code</li>\n",
    "    <li>Use the markdown cell format in Jupiter to add your own interpretation to the result in each section.</li>\n",
    "    <li>Make sure to keep the output of your runs when you want to save the final version of the file.</li>\n",
    "    <li>The final submited file should be very well structured and should have a consistent flow of analysis.</li>\n",
    "    <li>You may want to use an additional word document to report the result of your analysis</li>\n",
    "</ul>"
   ]
  },
  {
   "cell_type": "markdown",
   "metadata": {},
   "source": [
    "#### Due Date: Nov 30 2020 at 11:59 PM"
   ]
  },
  {
   "cell_type": "markdown",
   "metadata": {},
   "source": [
    "<table style=\"width:400px;height:200px;border:1px black solid; background-color:white\">\n",
    "    <tr style=\"background-color:white\">\n",
    "        <th style=\"text-align:left;border:1px black solid\">Comprehensiveness</th>\n",
    "        <td style=\"text-align:center;border:1px black solid\"><b>30%</b></td>\n",
    "    </tr>\n",
    "    <tr style=\"background-color:white\">\n",
    "        <th style=\"text-align:left;border:1px black solid\">Correctness</th>\n",
    "        <td style=\"text-align:center;border:1px black solid\"><b>30%</b></td>\n",
    "    </tr>\n",
    "    <tr style=\"background-color:white\">\n",
    "        <th style=\"text-align:left;border:1px black solid\">Complete Report</th>\n",
    "        <td style=\"text-align:center;border:1px black solid\"><b>20%</b></td>\n",
    "    </tr>\n",
    "    <tr style=\"background-color:white\">\n",
    "        <th style=\"text-align:left;border:1px black solid\">Clear Code</th>\n",
    "        <td style=\"text-align:center;border:1px black solid\"><b>20%</b></td>\n",
    "    </tr>\n",
    "    <tr style=\"background-color:white\">\n",
    "        <th style=\"text-align:center;border:1px black solid;color:red\"><u>Total</u></th>\n",
    "        <td style=\"text-align:center;border:1px black solid;color:red\"><b stlyle=\"color:red\">100%</b></td>\n",
    "    </tr>\n",
    "</table>"
   ]
  }
 ],
 "metadata": {
  "kernelspec": {
   "display_name": "Python 3",
   "language": "python",
   "name": "python3"
  },
  "language_info": {
   "codemirror_mode": {
    "name": "ipython",
    "version": 3
   },
   "file_extension": ".py",
   "mimetype": "text/x-python",
   "name": "python",
   "nbconvert_exporter": "python",
   "pygments_lexer": "ipython3",
   "version": "3.8.3"
  }
 },
 "nbformat": 4,
 "nbformat_minor": 4
}
